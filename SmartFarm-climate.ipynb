{
  "cells": [
    {
      "cell_type": "markdown",
      "metadata": {
        "id": "C7x4lxBnKCxm"
      },
      "source": [
        "**IMPORT LIBRARY**"
      ]
    },
    {
      "cell_type": "code",
      "execution_count": 3,
      "metadata": {
        "id": "TuHnxzRQJtc0"
      },
      "outputs": [],
      "source": [
        "# Library untuk manipulasi data\n",
        "import pandas as pd\n",
        "import numpy as np\n",
        "\n",
        "# Library untuk visualisasi data\n",
        "import matplotlib.pyplot as plt\n",
        "import seaborn as sns\n",
        "\n",
        "import kagglehub\n",
        "\n",
        "# Library untuk pembagian data dan praproses\n",
        "from sklearn.model_selection import train_test_split\n",
        "from sklearn.preprocessing import MinMaxScaler, LabelEncoder\n",
        "\n",
        "# Library untuk membangun model dan deep learning\n",
        "import tensorflow as tf\n",
        "from tensorflow.keras.models import Sequential\n",
        "from tensorflow.keras.layers import LSTM, Dense, Dropout\n",
        "\n",
        "# Library untuk evaluasi model\n",
        "from sklearn.metrics import mean_squared_error, mean_absolute_error\n",
        "from math import sqrt\n"
      ]
    },
    {
      "cell_type": "code",
      "execution_count": 4,
      "metadata": {
        "colab": {
          "base_uri": "https://localhost:8080/"
        },
        "id": "ZO5J2QsXtV1E",
        "outputId": "9569a3a3-4fef-449c-c9c4-0c76b583b3a0"
      },
      "outputs": [
        {
          "name": "stdout",
          "output_type": "stream",
          "text": [
            "Requirement already satisfied: tensorflowjs in /usr/local/lib/python3.10/dist-packages (4.22.0)\n",
            "Requirement already satisfied: flax>=0.7.2 in /usr/local/lib/python3.10/dist-packages (from tensorflowjs) (0.8.5)\n",
            "Requirement already satisfied: importlib_resources>=5.9.0 in /usr/local/lib/python3.10/dist-packages (from tensorflowjs) (6.4.5)\n",
            "Requirement already satisfied: jax>=0.4.13 in /usr/local/lib/python3.10/dist-packages (from tensorflowjs) (0.4.33)\n",
            "Requirement already satisfied: jaxlib>=0.4.13 in /usr/local/lib/python3.10/dist-packages (from tensorflowjs) (0.4.33)\n",
            "Requirement already satisfied: tensorflow<3,>=2.13.0 in /usr/local/lib/python3.10/dist-packages (from tensorflowjs) (2.18.0)\n",
            "Requirement already satisfied: tf-keras>=2.13.0 in /usr/local/lib/python3.10/dist-packages (from tensorflowjs) (2.18.0)\n",
            "Requirement already satisfied: tensorflow-decision-forests>=1.5.0 in /usr/local/lib/python3.10/dist-packages (from tensorflowjs) (1.11.0)\n",
            "Requirement already satisfied: six<2,>=1.16.0 in /usr/local/lib/python3.10/dist-packages (from tensorflowjs) (1.16.0)\n",
            "Requirement already satisfied: tensorflow-hub>=0.16.1 in /usr/local/lib/python3.10/dist-packages (from tensorflowjs) (0.16.1)\n",
            "Requirement already satisfied: packaging~=23.1 in /usr/local/lib/python3.10/dist-packages (from tensorflowjs) (23.2)\n",
            "Requirement already satisfied: numpy>=1.22 in /usr/local/lib/python3.10/dist-packages (from flax>=0.7.2->tensorflowjs) (1.26.4)\n",
            "Requirement already satisfied: msgpack in /usr/local/lib/python3.10/dist-packages (from flax>=0.7.2->tensorflowjs) (1.1.0)\n",
            "Requirement already satisfied: optax in /usr/local/lib/python3.10/dist-packages (from flax>=0.7.2->tensorflowjs) (0.2.4)\n",
            "Requirement already satisfied: orbax-checkpoint in /usr/local/lib/python3.10/dist-packages (from flax>=0.7.2->tensorflowjs) (0.6.4)\n",
            "Requirement already satisfied: tensorstore in /usr/local/lib/python3.10/dist-packages (from flax>=0.7.2->tensorflowjs) (0.1.68)\n",
            "Requirement already satisfied: rich>=11.1 in /usr/local/lib/python3.10/dist-packages (from flax>=0.7.2->tensorflowjs) (13.9.4)\n",
            "Requirement already satisfied: typing-extensions>=4.2 in /usr/local/lib/python3.10/dist-packages (from flax>=0.7.2->tensorflowjs) (4.12.2)\n",
            "Requirement already satisfied: PyYAML>=5.4.1 in /usr/local/lib/python3.10/dist-packages (from flax>=0.7.2->tensorflowjs) (6.0.2)\n",
            "Requirement already satisfied: ml-dtypes>=0.2.0 in /usr/local/lib/python3.10/dist-packages (from jax>=0.4.13->tensorflowjs) (0.4.1)\n",
            "Requirement already satisfied: opt-einsum in /usr/local/lib/python3.10/dist-packages (from jax>=0.4.13->tensorflowjs) (3.4.0)\n",
            "Requirement already satisfied: scipy>=1.10 in /usr/local/lib/python3.10/dist-packages (from jax>=0.4.13->tensorflowjs) (1.13.1)\n",
            "Requirement already satisfied: absl-py>=1.0.0 in /usr/local/lib/python3.10/dist-packages (from tensorflow<3,>=2.13.0->tensorflowjs) (1.4.0)\n",
            "Requirement already satisfied: astunparse>=1.6.0 in /usr/local/lib/python3.10/dist-packages (from tensorflow<3,>=2.13.0->tensorflowjs) (1.6.3)\n",
            "Requirement already satisfied: flatbuffers>=24.3.25 in /usr/local/lib/python3.10/dist-packages (from tensorflow<3,>=2.13.0->tensorflowjs) (24.3.25)\n",
            "Requirement already satisfied: gast!=0.5.0,!=0.5.1,!=0.5.2,>=0.2.1 in /usr/local/lib/python3.10/dist-packages (from tensorflow<3,>=2.13.0->tensorflowjs) (0.6.0)\n",
            "Requirement already satisfied: google-pasta>=0.1.1 in /usr/local/lib/python3.10/dist-packages (from tensorflow<3,>=2.13.0->tensorflowjs) (0.2.0)\n",
            "Requirement already satisfied: libclang>=13.0.0 in /usr/local/lib/python3.10/dist-packages (from tensorflow<3,>=2.13.0->tensorflowjs) (18.1.1)\n",
            "Requirement already satisfied: protobuf!=4.21.0,!=4.21.1,!=4.21.2,!=4.21.3,!=4.21.4,!=4.21.5,<6.0.0dev,>=3.20.3 in /usr/local/lib/python3.10/dist-packages (from tensorflow<3,>=2.13.0->tensorflowjs) (4.25.5)\n",
            "Requirement already satisfied: requests<3,>=2.21.0 in /usr/local/lib/python3.10/dist-packages (from tensorflow<3,>=2.13.0->tensorflowjs) (2.32.3)\n",
            "Requirement already satisfied: setuptools in /usr/local/lib/python3.10/dist-packages (from tensorflow<3,>=2.13.0->tensorflowjs) (75.1.0)\n",
            "Requirement already satisfied: termcolor>=1.1.0 in /usr/local/lib/python3.10/dist-packages (from tensorflow<3,>=2.13.0->tensorflowjs) (2.5.0)\n",
            "Requirement already satisfied: wrapt>=1.11.0 in /usr/local/lib/python3.10/dist-packages (from tensorflow<3,>=2.13.0->tensorflowjs) (1.16.0)\n",
            "Requirement already satisfied: grpcio<2.0,>=1.24.3 in /usr/local/lib/python3.10/dist-packages (from tensorflow<3,>=2.13.0->tensorflowjs) (1.68.0)\n",
            "Requirement already satisfied: tensorboard<2.19,>=2.18 in /usr/local/lib/python3.10/dist-packages (from tensorflow<3,>=2.13.0->tensorflowjs) (2.18.0)\n",
            "Requirement already satisfied: keras>=3.5.0 in /usr/local/lib/python3.10/dist-packages (from tensorflow<3,>=2.13.0->tensorflowjs) (3.5.0)\n",
            "Requirement already satisfied: h5py>=3.11.0 in /usr/local/lib/python3.10/dist-packages (from tensorflow<3,>=2.13.0->tensorflowjs) (3.12.1)\n",
            "Requirement already satisfied: tensorflow-io-gcs-filesystem>=0.23.1 in /usr/local/lib/python3.10/dist-packages (from tensorflow<3,>=2.13.0->tensorflowjs) (0.37.1)\n",
            "Requirement already satisfied: pandas in /usr/local/lib/python3.10/dist-packages (from tensorflow-decision-forests>=1.5.0->tensorflowjs) (2.2.2)\n",
            "Requirement already satisfied: wheel in /usr/local/lib/python3.10/dist-packages (from tensorflow-decision-forests>=1.5.0->tensorflowjs) (0.45.0)\n",
            "Requirement already satisfied: wurlitzer in /usr/local/lib/python3.10/dist-packages (from tensorflow-decision-forests>=1.5.0->tensorflowjs) (3.1.1)\n",
            "Requirement already satisfied: ydf in /usr/local/lib/python3.10/dist-packages (from tensorflow-decision-forests>=1.5.0->tensorflowjs) (0.9.0)\n",
            "Requirement already satisfied: namex in /usr/local/lib/python3.10/dist-packages (from keras>=3.5.0->tensorflow<3,>=2.13.0->tensorflowjs) (0.0.8)\n",
            "Requirement already satisfied: optree in /usr/local/lib/python3.10/dist-packages (from keras>=3.5.0->tensorflow<3,>=2.13.0->tensorflowjs) (0.13.1)\n",
            "Requirement already satisfied: charset-normalizer<4,>=2 in /usr/local/lib/python3.10/dist-packages (from requests<3,>=2.21.0->tensorflow<3,>=2.13.0->tensorflowjs) (3.4.0)\n",
            "Requirement already satisfied: idna<4,>=2.5 in /usr/local/lib/python3.10/dist-packages (from requests<3,>=2.21.0->tensorflow<3,>=2.13.0->tensorflowjs) (3.10)\n",
            "Requirement already satisfied: urllib3<3,>=1.21.1 in /usr/local/lib/python3.10/dist-packages (from requests<3,>=2.21.0->tensorflow<3,>=2.13.0->tensorflowjs) (2.2.3)\n",
            "Requirement already satisfied: certifi>=2017.4.17 in /usr/local/lib/python3.10/dist-packages (from requests<3,>=2.21.0->tensorflow<3,>=2.13.0->tensorflowjs) (2024.8.30)\n",
            "Requirement already satisfied: markdown-it-py>=2.2.0 in /usr/local/lib/python3.10/dist-packages (from rich>=11.1->flax>=0.7.2->tensorflowjs) (3.0.0)\n",
            "Requirement already satisfied: pygments<3.0.0,>=2.13.0 in /usr/local/lib/python3.10/dist-packages (from rich>=11.1->flax>=0.7.2->tensorflowjs) (2.18.0)\n",
            "Requirement already satisfied: markdown>=2.6.8 in /usr/local/lib/python3.10/dist-packages (from tensorboard<2.19,>=2.18->tensorflow<3,>=2.13.0->tensorflowjs) (3.7)\n",
            "Requirement already satisfied: tensorboard-data-server<0.8.0,>=0.7.0 in /usr/local/lib/python3.10/dist-packages (from tensorboard<2.19,>=2.18->tensorflow<3,>=2.13.0->tensorflowjs) (0.7.2)\n",
            "Requirement already satisfied: werkzeug>=1.0.1 in /usr/local/lib/python3.10/dist-packages (from tensorboard<2.19,>=2.18->tensorflow<3,>=2.13.0->tensorflowjs) (3.1.3)\n",
            "Requirement already satisfied: chex>=0.1.87 in /usr/local/lib/python3.10/dist-packages (from optax->flax>=0.7.2->tensorflowjs) (0.1.87)\n",
            "Requirement already satisfied: etils[epy] in /usr/local/lib/python3.10/dist-packages (from optax->flax>=0.7.2->tensorflowjs) (1.10.0)\n",
            "Requirement already satisfied: nest_asyncio in /usr/local/lib/python3.10/dist-packages (from orbax-checkpoint->flax>=0.7.2->tensorflowjs) (1.6.0)\n",
            "Requirement already satisfied: humanize in /usr/local/lib/python3.10/dist-packages (from orbax-checkpoint->flax>=0.7.2->tensorflowjs) (4.11.0)\n",
            "Requirement already satisfied: python-dateutil>=2.8.2 in /usr/local/lib/python3.10/dist-packages (from pandas->tensorflow-decision-forests>=1.5.0->tensorflowjs) (2.8.2)\n",
            "Requirement already satisfied: pytz>=2020.1 in /usr/local/lib/python3.10/dist-packages (from pandas->tensorflow-decision-forests>=1.5.0->tensorflowjs) (2024.2)\n",
            "Requirement already satisfied: tzdata>=2022.7 in /usr/local/lib/python3.10/dist-packages (from pandas->tensorflow-decision-forests>=1.5.0->tensorflowjs) (2024.2)\n",
            "Requirement already satisfied: toolz>=0.9.0 in /usr/local/lib/python3.10/dist-packages (from chex>=0.1.87->optax->flax>=0.7.2->tensorflowjs) (0.12.1)\n",
            "Requirement already satisfied: mdurl~=0.1 in /usr/local/lib/python3.10/dist-packages (from markdown-it-py>=2.2.0->rich>=11.1->flax>=0.7.2->tensorflowjs) (0.1.2)\n",
            "Requirement already satisfied: MarkupSafe>=2.1.1 in /usr/local/lib/python3.10/dist-packages (from werkzeug>=1.0.1->tensorboard<2.19,>=2.18->tensorflow<3,>=2.13.0->tensorflowjs) (3.0.2)\n",
            "Requirement already satisfied: fsspec in /usr/local/lib/python3.10/dist-packages (from etils[epath,epy]->orbax-checkpoint->flax>=0.7.2->tensorflowjs) (2024.10.0)\n",
            "Requirement already satisfied: zipp in /usr/local/lib/python3.10/dist-packages (from etils[epath,epy]->orbax-checkpoint->flax>=0.7.2->tensorflowjs) (3.21.0)\n"
          ]
        }
      ],
      "source": [
        "!pip install tensorflowjs"
      ]
    },
    {
      "cell_type": "markdown",
      "metadata": {
        "id": "2D99fmBRKHR4"
      },
      "source": [
        "# Gathering data"
      ]
    },
    {
      "cell_type": "code",
      "execution_count": 5,
      "metadata": {
        "colab": {
          "base_uri": "https://localhost:8080/"
        },
        "id": "E-16wypiKF4i",
        "outputId": "387ce29f-211c-4e60-b820-21c24e01b66e"
      },
      "outputs": [
        {
          "name": "stdout",
          "output_type": "stream",
          "text": [
            "Downloading from https://www.kaggle.com/api/v1/datasets/download/greegtitan/indonesia-climate?dataset_version_number=5...\n"
          ]
        },
        {
          "name": "stderr",
          "output_type": "stream",
          "text": [
            "100%|██████████| 7.15M/7.15M [00:00<00:00, 32.2MB/s]"
          ]
        },
        {
          "name": "stdout",
          "output_type": "stream",
          "text": [
            "Extracting files...\n"
          ]
        },
        {
          "name": "stderr",
          "output_type": "stream",
          "text": [
            "\n"
          ]
        },
        {
          "name": "stdout",
          "output_type": "stream",
          "text": [
            "Path to dataset files: /root/.cache/kagglehub/datasets/greegtitan/indonesia-climate/versions/5\n"
          ]
        }
      ],
      "source": [
        "import kagglehub\n",
        "\n",
        "# Unduh data\n",
        "path = kagglehub.dataset_download(\"greegtitan/indonesia-climate\")\n",
        "\n",
        "print(\"Path to dataset files:\", path)"
      ]
    },
    {
      "cell_type": "markdown",
      "metadata": {
        "id": "xpTfh5jJKQi9"
      },
      "source": [
        "# Load dan Tinjau Dataset"
      ]
    },
    {
      "cell_type": "code",
      "execution_count": 6,
      "metadata": {
        "colab": {
          "base_uri": "https://localhost:8080/"
        },
        "id": "ChHbbLuTKOoB",
        "outputId": "0d260aff-99c0-4652-8c21-08fb021f52b2"
      },
      "outputs": [
        {
          "name": "stdout",
          "output_type": "stream",
          "text": [
            "Climate Data Sample:\n",
            "         date    Tn    Tx  Tavg  RH_avg    RR   ss  ff_x  ddd_x  ff_avg  \\\n",
            "0  01-01-2010  21.4  30.2  27.1    82.0   9.0  0.5   7.0   90.0     5.0   \n",
            "1  02-01-2010  21.0  29.6  25.7    95.0  24.0  0.2   6.0   90.0     4.0   \n",
            "2  03-01-2010  20.2  26.8  24.5    98.0  63.0  0.0   5.0   90.0     4.0   \n",
            "3  04-01-2010  21.0  29.2  25.8    90.0   0.0  0.1   4.0  225.0     3.0   \n",
            "4  05-01-2010  21.2  30.0  26.7    90.0   2.0  0.4   NaN    NaN     NaN   \n",
            "\n",
            "  ddd_car  station_id  \n",
            "0      E        96001  \n",
            "1      E        96001  \n",
            "2      E        96001  \n",
            "3      SW       96001  \n",
            "4     NaN       96001  \n",
            "\n",
            "Province Data Sample:\n",
            "   province_id             province_name\n",
            "0            1  Nanggroe Aceh Darussalam\n",
            "1            2            Sumatera Utara\n",
            "2            3            Sumatera Barat\n",
            "3            4                      Riau\n",
            "4            5                     Jambi\n",
            "\n",
            "Station Data Sample:\n",
            "   station_id                                       station_name  \\\n",
            "0       96001                   Stasiun Meteorologi Maimun Saleh   \n",
            "1       96003  Balai Besar Meteorologi Klimatologi  dan Geofi...   \n",
            "2       96004  Balai Besar Meteorologi Klimatologi dan Geofis...   \n",
            "3       96009                   Stasiun Meteorologi Malikussaleh   \n",
            "4       96011           Stasiun Meteorologi Sultan Iskandar Muda   \n",
            "\n",
            "       region_name  latitude  longitude  region_id  province_id  \n",
            "0      Kota Sabang   5.87655   95.33785         20            1  \n",
            "1      Kab. Badung  -8.73810  115.17860        272           17  \n",
            "2    Kota Makassar  -5.14283  119.45227        412           26  \n",
            "3  Kab. Aceh Utara   5.22869   96.94749          8            1  \n",
            "4  Kab. Aceh Besar   5.52244   95.41700          6            1  \n"
          ]
        }
      ],
      "source": [
        "import pandas as pd\n",
        "\n",
        "file_path_climate = '/root/.cache/kagglehub/datasets/greegtitan/indonesia-climate/versions/5/climate_data.csv'\n",
        "file_path_province = '/root/.cache/kagglehub/datasets/greegtitan/indonesia-climate/versions/5/province_detail.csv'\n",
        "file_path_station = '/root/.cache/kagglehub/datasets/greegtitan/indonesia-climate/versions/5/station_detail.csv'\n",
        "\n",
        "climate_data = pd.read_csv(file_path_climate, parse_dates=['date'])\n",
        "province_data = pd.read_csv(file_path_province)\n",
        "station_data = pd.read_csv(file_path_station)\n",
        "\n",
        "print(\"Climate Data Sample:\")\n",
        "print(climate_data.head())\n",
        "\n",
        "print(\"\\nProvince Data Sample:\")\n",
        "print(province_data.head())\n",
        "\n",
        "print(\"\\nStation Data Sample:\")\n",
        "print(station_data.head())"
      ]
    },
    {
      "cell_type": "markdown",
      "metadata": {
        "id": "j2MGcOKmLB43"
      },
      "source": [
        "# Simpan ke dalam CSV"
      ]
    },
    {
      "cell_type": "code",
      "execution_count": 7,
      "metadata": {
        "colab": {
          "base_uri": "https://localhost:8080/"
        },
        "id": "2hIhux7lLDRN",
        "outputId": "34fbaa45-1d52-4e3b-e7d6-74681e48885b"
      },
      "outputs": [
        {
          "name": "stdout",
          "output_type": "stream",
          "text": [
            "Dataset berhasil disimpan ke CSV.\n"
          ]
        }
      ],
      "source": [
        "import os\n",
        "\n",
        "# Pastikan direktori 'data' ada atau buat jika belum\n",
        "os.makedirs('data', exist_ok=True)\n",
        "\n",
        "# Simpan DataFrame ke CSV di subdirektori 'data'\n",
        "climate_data.to_csv('data/climate_data.csv', index=False)\n",
        "province_data.to_csv('data/province_data.csv', index=False)\n",
        "station_data.to_csv('data/station_data.csv', index=False)\n",
        "\n",
        "print(\"Dataset berhasil disimpan ke CSV.\")"
      ]
    },
    {
      "cell_type": "markdown",
      "metadata": {
        "id": "XjYUOIsULG4l"
      },
      "source": [
        "**TAMPILKAN BEBERAPA DATA**"
      ]
    },
    {
      "cell_type": "code",
      "execution_count": 8,
      "metadata": {
        "colab": {
          "base_uri": "https://localhost:8080/"
        },
        "id": "wIA-RAM6LIBg",
        "outputId": "9f8f419b-66b8-4990-e503-fed3ca2711e9"
      },
      "outputs": [
        {
          "name": "stdout",
          "output_type": "stream",
          "text": [
            "\n",
            "Climate Data Info:\n",
            "<class 'pandas.core.frame.DataFrame'>\n",
            "RangeIndex: 589265 entries, 0 to 589264\n",
            "Data columns (total 12 columns):\n",
            " #   Column      Non-Null Count   Dtype  \n",
            "---  ------      --------------   -----  \n",
            " 0   date        589265 non-null  object \n",
            " 1   Tn          565882 non-null  float64\n",
            " 2   Tx          551529 non-null  float64\n",
            " 3   Tavg        544160 non-null  float64\n",
            " 4   RH_avg      541083 non-null  float64\n",
            " 5   RR          463881 non-null  float64\n",
            " 6   ss          545544 non-null  float64\n",
            " 7   ff_x        579051 non-null  float64\n",
            " 8   ddd_x       576137 non-null  float64\n",
            " 9   ff_avg      579138 non-null  float64\n",
            " 10  ddd_car     575526 non-null  object \n",
            " 11  station_id  589265 non-null  int64  \n",
            "dtypes: float64(9), int64(1), object(2)\n",
            "memory usage: 53.9+ MB\n",
            "None\n",
            "\n",
            "Province Data Info:\n",
            "<class 'pandas.core.frame.DataFrame'>\n",
            "RangeIndex: 34 entries, 0 to 33\n",
            "Data columns (total 2 columns):\n",
            " #   Column         Non-Null Count  Dtype \n",
            "---  ------         --------------  ----- \n",
            " 0   province_id    34 non-null     int64 \n",
            " 1   province_name  34 non-null     object\n",
            "dtypes: int64(1), object(1)\n",
            "memory usage: 672.0+ bytes\n",
            "None\n",
            "\n",
            "Station Data Info:\n",
            "<class 'pandas.core.frame.DataFrame'>\n",
            "RangeIndex: 192 entries, 0 to 191\n",
            "Data columns (total 7 columns):\n",
            " #   Column        Non-Null Count  Dtype  \n",
            "---  ------        --------------  -----  \n",
            " 0   station_id    192 non-null    int64  \n",
            " 1   station_name  192 non-null    object \n",
            " 2   region_name   192 non-null    object \n",
            " 3   latitude      192 non-null    float64\n",
            " 4   longitude     192 non-null    float64\n",
            " 5   region_id     192 non-null    int64  \n",
            " 6   province_id   192 non-null    int64  \n",
            "dtypes: float64(2), int64(3), object(2)\n",
            "memory usage: 10.6+ KB\n",
            "None\n"
          ]
        }
      ],
      "source": [
        "# Cek informasi dataset\n",
        "print(\"\\nClimate Data Info:\")\n",
        "print(climate_data.info())\n",
        "\n",
        "print(\"\\nProvince Data Info:\")\n",
        "print(province_data.info())\n",
        "\n",
        "print(\"\\nStation Data Info:\")\n",
        "print(station_data.info())"
      ]
    },
    {
      "cell_type": "markdown",
      "metadata": {
        "id": "_uAUVywSLMTB"
      },
      "source": [
        "# CEK STATISTIK SEMUA DATA"
      ]
    },
    {
      "cell_type": "code",
      "execution_count": 9,
      "metadata": {
        "colab": {
          "base_uri": "https://localhost:8080/"
        },
        "id": "ibGJE5GNLKXa",
        "outputId": "615718ed-86c3-4d86-df86-0f74f16fa1e2"
      },
      "outputs": [
        {
          "name": "stdout",
          "output_type": "stream",
          "text": [
            "Statistik Deskriptif Data:\n",
            "                  Tn             Tx           Tavg         RH_avg  \\\n",
            "count  565882.000000  551529.000000  544160.000000  541083.000000   \n",
            "mean       23.312111      31.528955      26.855475      82.489365   \n",
            "std         2.280687       2.311659       1.939656      14.337669   \n",
            "min         0.000000       0.000000       0.000000      24.000000   \n",
            "25%        23.000000      30.500000      26.200000      79.000000   \n",
            "50%        24.000000      31.800000      27.200000      83.000000   \n",
            "75%        25.000000      33.000000      28.000000      87.000000   \n",
            "max       246.000000     334.000000     141.600000    7520.000000   \n",
            "\n",
            "                  RR             ss           ff_x          ddd_x  \\\n",
            "count  463881.000000  545544.000000  579051.000000  576137.000000   \n",
            "mean        8.680760       5.083199       4.709601     188.488325   \n",
            "std        17.928752       3.261586       2.612285     107.657452   \n",
            "min        -1.000000       0.000000       0.000000       0.000000   \n",
            "25%         0.000000       2.500000       3.000000      90.000000   \n",
            "50%         1.000000       5.300000       4.000000     180.000000   \n",
            "75%         9.300000       7.600000       6.000000     270.000000   \n",
            "max      1965.500000     705.000000     185.000000     931.000000   \n",
            "\n",
            "              ff_avg     station_id       latitude      longitude  \\\n",
            "count  579138.000000  589265.000000  589265.000000  589265.000000   \n",
            "mean        1.956680   96832.949230      -2.997343     114.539212   \n",
            "std         1.803358     542.419161       4.071487      11.337802   \n",
            "min         0.000000   96001.000000     -10.766620      95.337850   \n",
            "25%         1.000000   96293.000000      -6.700000     106.250000   \n",
            "50%         2.000000   96797.000000      -3.045240     112.783300   \n",
            "75%         3.000000   97240.000000      -0.030000     122.449000   \n",
            "max       160.000000   97980.000000       5.876550     140.720000   \n",
            "\n",
            "           region_id    province_id  \n",
            "count  589265.000000  589265.000000  \n",
            "mean      272.114595      17.657115  \n",
            "std       143.948134       9.820696  \n",
            "min         1.000000       1.000000  \n",
            "25%       149.000000      10.000000  \n",
            "50%       287.000000      18.000000  \n",
            "75%       399.000000      26.000000  \n",
            "max       507.000000      34.000000  \n",
            "\n",
            "Statistik Deskriptif Kolom Kategorikal:\n",
            "              date ddd_car                    station_name    region_name  \\\n",
            "count       589265  575526                          589265         589265   \n",
            "unique        4018       9                             173            147   \n",
            "top     20-12-2020      N   Stasiun Meteorologi Aek Godang  Kota Semarang   \n",
            "freq           167  196415                            4005          11661   \n",
            "\n",
            "       province_name  \n",
            "count         589265  \n",
            "unique            34  \n",
            "top       Jawa Timur  \n",
            "freq           39747  \n"
          ]
        }
      ],
      "source": [
        "# Gabungkan dataset climate_data dengan station_data berdasarkan kolom 'station_id'\n",
        "combined_data = pd.merge(climate_data, station_data, on='station_id', how='left')\n",
        "\n",
        "# Menggabungkan hasilnya dengan province_data berdasarkan kolom 'province_id'\n",
        "combined_data = pd.merge(combined_data, province_data, on='province_id', how='left')\n",
        "\n",
        "# Tampilkan statistik deskriptif dari dataset yang sudah digabung\n",
        "print(\"Statistik Deskriptif Data:\")\n",
        "print(combined_data.describe())\n",
        "\n",
        "print(\"\\nStatistik Deskriptif Kolom Kategorikal:\")\n",
        "print(combined_data.describe(include=['object', 'category']))"
      ]
    },
    {
      "cell_type": "code",
      "execution_count": 10,
      "metadata": {
        "colab": {
          "base_uri": "https://localhost:8080/"
        },
        "id": "Sa9fJB9fLQLC",
        "outputId": "98a3319e-c5d3-4541-dde6-01e651232883"
      },
      "outputs": [
        {
          "name": "stdout",
          "output_type": "stream",
          "text": [
            "         date    Tn    Tx  Tavg  RH_avg    RR   ss  ff_x  ddd_x  ff_avg  \\\n",
            "0  01-01-2010  21.4  30.2  27.1    82.0   9.0  0.5   7.0   90.0     5.0   \n",
            "1  02-01-2010  21.0  29.6  25.7    95.0  24.0  0.2   6.0   90.0     4.0   \n",
            "2  03-01-2010  20.2  26.8  24.5    98.0  63.0  0.0   5.0   90.0     4.0   \n",
            "3  04-01-2010  21.0  29.2  25.8    90.0   0.0  0.1   4.0  225.0     3.0   \n",
            "4  05-01-2010  21.2  30.0  26.7    90.0   2.0  0.4   NaN    NaN     NaN   \n",
            "\n",
            "  ddd_car  station_id                      station_name  region_name  \\\n",
            "0      E        96001  Stasiun Meteorologi Maimun Saleh  Kota Sabang   \n",
            "1      E        96001  Stasiun Meteorologi Maimun Saleh  Kota Sabang   \n",
            "2      E        96001  Stasiun Meteorologi Maimun Saleh  Kota Sabang   \n",
            "3      SW       96001  Stasiun Meteorologi Maimun Saleh  Kota Sabang   \n",
            "4     NaN       96001  Stasiun Meteorologi Maimun Saleh  Kota Sabang   \n",
            "\n",
            "   latitude  longitude  region_id  province_id             province_name  \n",
            "0   5.87655   95.33785         20            1  Nanggroe Aceh Darussalam  \n",
            "1   5.87655   95.33785         20            1  Nanggroe Aceh Darussalam  \n",
            "2   5.87655   95.33785         20            1  Nanggroe Aceh Darussalam  \n",
            "3   5.87655   95.33785         20            1  Nanggroe Aceh Darussalam  \n",
            "4   5.87655   95.33785         20            1  Nanggroe Aceh Darussalam  \n"
          ]
        }
      ],
      "source": [
        "# Tampilkan beberapa baris data yang digabungkan\n",
        "print(combined_data.head())"
      ]
    },
    {
      "cell_type": "markdown",
      "metadata": {
        "id": "KGZEAMSHLVHs"
      },
      "source": [
        "# Assessing data"
      ]
    },
    {
      "cell_type": "markdown",
      "metadata": {
        "id": "pyu5y1J4LXnV"
      },
      "source": [
        "Pemeriksaan nilai yang hilang (missing values)"
      ]
    },
    {
      "cell_type": "code",
      "execution_count": 11,
      "metadata": {
        "colab": {
          "base_uri": "https://localhost:8080/"
        },
        "id": "QaiL8jiyLTgS",
        "outputId": "ecf77d09-96ca-450b-d2b4-74e81399ba93"
      },
      "outputs": [
        {
          "name": "stdout",
          "output_type": "stream",
          "text": [
            "Missing Values in Climate Data:\n",
            "date               0\n",
            "Tn             23383\n",
            "Tx             37736\n",
            "Tavg           45105\n",
            "RH_avg         48182\n",
            "RR            125384\n",
            "ss             43721\n",
            "ff_x           10214\n",
            "ddd_x          13128\n",
            "ff_avg         10127\n",
            "ddd_car        13739\n",
            "station_id         0\n",
            "dtype: int64\n",
            "\n",
            "Missing Values in Province Data:\n",
            "province_id      0\n",
            "province_name    0\n",
            "dtype: int64\n",
            "\n",
            "Missing Values in Station Data:\n",
            "station_id      0\n",
            "station_name    0\n",
            "region_name     0\n",
            "latitude        0\n",
            "longitude       0\n",
            "region_id       0\n",
            "province_id     0\n",
            "dtype: int64\n"
          ]
        }
      ],
      "source": [
        "# Pemeriksaan nilai yang hilang di setiap dataset\n",
        "print(\"Missing Values in Climate Data:\")\n",
        "print(climate_data.isnull().sum())\n",
        "\n",
        "print(\"\\nMissing Values in Province Data:\")\n",
        "print(province_data.isnull().sum())\n",
        "\n",
        "print(\"\\nMissing Values in Station Data:\")\n",
        "print(station_data.isnull().sum())"
      ]
    },
    {
      "cell_type": "markdown",
      "metadata": {
        "id": "dDRmMymdLiKh"
      },
      "source": [
        "pengecekan tipe data"
      ]
    },
    {
      "cell_type": "code",
      "execution_count": 12,
      "metadata": {
        "colab": {
          "base_uri": "https://localhost:8080/"
        },
        "id": "LP_EigwHLkqz",
        "outputId": "11f74729-1a57-4437-876c-6ac9bf7552c9"
      },
      "outputs": [
        {
          "name": "stdout",
          "output_type": "stream",
          "text": [
            "\n",
            "Data Types in Climate Data:\n",
            "date           object\n",
            "Tn            float64\n",
            "Tx            float64\n",
            "Tavg          float64\n",
            "RH_avg        float64\n",
            "RR            float64\n",
            "ss            float64\n",
            "ff_x          float64\n",
            "ddd_x         float64\n",
            "ff_avg        float64\n",
            "ddd_car        object\n",
            "station_id      int64\n",
            "dtype: object\n",
            "\n",
            "Data Types in Province Data:\n",
            "province_id       int64\n",
            "province_name    object\n",
            "dtype: object\n",
            "\n",
            "Data Types in Station Data:\n",
            "station_id        int64\n",
            "station_name     object\n",
            "region_name      object\n",
            "latitude        float64\n",
            "longitude       float64\n",
            "region_id         int64\n",
            "province_id       int64\n",
            "dtype: object\n"
          ]
        }
      ],
      "source": [
        "# Pengecekan tipe data\n",
        "print(\"\\nData Types in Climate Data:\")\n",
        "print(climate_data.dtypes)\n",
        "\n",
        "print(\"\\nData Types in Province Data:\")\n",
        "print(province_data.dtypes)\n",
        "\n",
        "print(\"\\nData Types in Station Data:\")\n",
        "print(station_data.dtypes)"
      ]
    },
    {
      "cell_type": "markdown",
      "metadata": {
        "id": "VkND7xBFLmx1"
      },
      "source": [
        "Pengecekan duplikasi data"
      ]
    },
    {
      "cell_type": "code",
      "execution_count": 13,
      "metadata": {
        "colab": {
          "base_uri": "https://localhost:8080/"
        },
        "id": "MjcWo_lkLnfZ",
        "outputId": "0040188c-14fc-4ab2-fdff-45603960a96b"
      },
      "outputs": [
        {
          "name": "stdout",
          "output_type": "stream",
          "text": [
            "\n",
            "Duplicate Rows in Climate Data: 0\n",
            "\n",
            "Duplicate Rows in Province Data: 0\n",
            "\n",
            "Duplicate Rows in Station Data: 0\n"
          ]
        }
      ],
      "source": [
        "# Identifikasi data duplikat\n",
        "print(\"\\nDuplicate Rows in Climate Data:\", climate_data.duplicated().sum())\n",
        "print(\"\\nDuplicate Rows in Province Data:\", province_data.duplicated().sum())\n",
        "print(\"\\nDuplicate Rows in Station Data:\", station_data.duplicated().sum())"
      ]
    },
    {
      "cell_type": "markdown",
      "metadata": {
        "id": "mwjJAdJyLrBN"
      },
      "source": [
        "# CLEANING DATA"
      ]
    },
    {
      "cell_type": "code",
      "execution_count": 14,
      "metadata": {
        "colab": {
          "base_uri": "https://localhost:8080/"
        },
        "id": "VD-OOAaID8Pb",
        "outputId": "ab93c654-1c62-4ddb-a0c2-40518a0bb9e3"
      },
      "outputs": [
        {
          "name": "stderr",
          "output_type": "stream",
          "text": [
            "<ipython-input-14-54bdc6d854b1>:25: DeprecationWarning: DataFrameGroupBy.apply operated on the grouping columns. This behavior is deprecated, and in a future version of pandas the grouping columns will be excluded from the operation. Either pass `include_groups=False` to exclude the groupings or explicitly select the grouping columns after groupby to silence this warning.\n",
            "  combined_data = combined_data.groupby('province_id', group_keys=False).apply(resample_group)\n"
          ]
        }
      ],
      "source": [
        "# Konversi ke datetime\n",
        "combined_data['date'] = pd.to_datetime(combined_data['date'], errors='coerce')\n",
        "\n",
        "# Pastikan data terurut sebelum resampling\n",
        "combined_data = combined_data.sort_values(['province_id', 'date'])\n",
        "\n",
        "# Reset index sebelum groupby\n",
        "combined_data = combined_data.reset_index(drop=True)\n",
        "\n",
        "# Fungsi untuk resampling dengan penanganan yang lebih robust\n",
        "def resample_group(group):\n",
        "    # Set index ke date\n",
        "    group_resampled = group.set_index('date')\n",
        "\n",
        "    # Resample dengan metode yang lebih fleksibel\n",
        "    group_resampled = group_resampled.resample('D').first()\n",
        "\n",
        "    # Forward fill dan backward fill\n",
        "    group_resampled = group_resampled.ffill().bfill()\n",
        "\n",
        "    # Reset index\n",
        "    return group_resampled.reset_index()\n",
        "\n",
        "# Terapkan resampling per provinsi\n",
        "combined_data = combined_data.groupby('province_id', group_keys=False).apply(resample_group)\n",
        "\n",
        "# Reset index akhir\n",
        "combined_data = combined_data.reset_index(drop=True)"
      ]
    },
    {
      "cell_type": "code",
      "execution_count": 15,
      "metadata": {
        "colab": {
          "base_uri": "https://localhost:8080/"
        },
        "id": "doHf3tOqCISZ",
        "outputId": "cb1e4510-8ae4-4d8b-a910-a03fe66a7d4b"
      },
      "outputs": [
        {
          "name": "stdout",
          "output_type": "stream",
          "text": [
            "Missing values setelah interpolasi:\n",
            "date             0\n",
            "Tn               0\n",
            "Tx               0\n",
            "Tavg             0\n",
            "RH_avg           0\n",
            "RR               0\n",
            "ss               0\n",
            "ff_x             0\n",
            "ddd_x            0\n",
            "ff_avg           0\n",
            "ddd_car          0\n",
            "station_id       0\n",
            "station_name     0\n",
            "region_name      0\n",
            "latitude         0\n",
            "longitude        0\n",
            "region_id        0\n",
            "province_id      0\n",
            "province_name    0\n",
            "dtype: int64\n",
            "\n",
            "Jumlah baris setelah mengisi nilai yang hilang:\n",
            "Combined Data: 135966\n"
          ]
        }
      ],
      "source": [
        "numeric_columns = ['Tn', 'Tx', 'Tavg', 'RH_avg', 'RR', 'ss', 'ff_x', 'ddd_x', 'ff_avg']\n",
        "\n",
        "# Lakukan interpolasi pada kolom numerik\n",
        "for col in numeric_columns:\n",
        "    combined_data[col] = combined_data[col].interpolate(method='linear', limit_direction='forward')\n",
        "\n",
        "# Isi dengan modus (nilai yang paling sering muncul)\n",
        "combined_data['ddd_car'] = combined_data['ddd_car'].fillna(combined_data['ddd_car'].mode()[0])\n",
        "\n",
        "print(\"Missing values setelah interpolasi:\")\n",
        "print(combined_data.isnull().sum())\n",
        "\n",
        "# Tampilkan jumlah baris setelah pembersihan\n",
        "print()\n",
        "print(\"Jumlah baris setelah mengisi nilai yang hilang:\")\n",
        "print(f\"Combined Data: {combined_data.shape[0]}\")"
      ]
    },
    {
      "cell_type": "code",
      "execution_count": 16,
      "metadata": {
        "id": "MkfKqCu5DeXe"
      },
      "outputs": [],
      "source": [
        "# Setelah pembersihan, simpan data ke file CSV\n",
        "combined_data.to_csv('combined_data.csv', index=False)\n",
        "\n",
        "# Verifikasi dengan memuat ulang\n",
        "combined_data = pd.read_csv('combined_data.csv')"
      ]
    },
    {
      "cell_type": "code",
      "execution_count": 17,
      "metadata": {
        "colab": {
          "base_uri": "https://localhost:8080/"
        },
        "id": "XUpEHBuDLswr",
        "outputId": "1749839a-e846-4dcb-8333-633b8c13b4b4"
      },
      "outputs": [
        {
          "name": "stdout",
          "output_type": "stream",
          "text": [
            "Jumlah baris setelah menghapus nilai yang hilang:\n",
            "Climate Data: 372151\n",
            "Province Data: 34\n",
            "Station Data: 192\n"
          ]
        }
      ],
      "source": [
        "# Hapus baris yang memiliki nilai yang hilang\n",
        "climate_data = climate_data.dropna()\n",
        "province_data = province_data.dropna()\n",
        "station_data = station_data.dropna()\n",
        "\n",
        "# Tampilkan jumlah baris setelah pembersihan\n",
        "print(\"Jumlah baris setelah menghapus nilai yang hilang:\")\n",
        "print(f\"Climate Data: {climate_data.shape[0]}\")\n",
        "print(f\"Province Data: {province_data.shape[0]}\")\n",
        "print(f\"Station Data: {station_data.shape[0]}\")"
      ]
    },
    {
      "cell_type": "code",
      "execution_count": 18,
      "metadata": {
        "id": "WNAWup1FLvum"
      },
      "outputs": [],
      "source": [
        "# Konversi kolom 'date' menjadi tipe datetime\n",
        "combined_data['date'] = pd.to_datetime(combined_data['date'], errors='coerce')"
      ]
    },
    {
      "cell_type": "code",
      "execution_count": 19,
      "metadata": {
        "colab": {
          "base_uri": "https://localhost:8080/"
        },
        "id": "5RPq7jBcLyh-",
        "outputId": "4d7f671c-cc5f-408b-9bbc-baba473923e5"
      },
      "outputs": [
        {
          "name": "stdout",
          "output_type": "stream",
          "text": [
            "        date   weather_desc  weather_desc_num weather_desc_label\n",
            "0 2010-01-01   Hujan Sedang                 6       Hujan Sedang\n",
            "1 2010-01-02  Cerah Berawan                 1      Cerah Berawan\n",
            "2 2010-01-03   Hujan Sedang                 6       Hujan Sedang\n",
            "3 2010-01-04    Hujan Lebat                 7        Hujan Lebat\n",
            "4 2010-01-05   Hujan Ringan                 5       Hujan Ringan\n"
          ]
        }
      ],
      "source": [
        "# Fungsi untuk menentukan deskripsi cuaca berdasarkan data cuaca\n",
        "def get_weather_description(row):\n",
        "    if row['RR'] > 15:\n",
        "        return \"Hujan Lebat\"\n",
        "    elif row['RR'] > 5:\n",
        "        return \"Hujan Sedang\"\n",
        "    elif row['RR'] > 0:\n",
        "        return \"Hujan Ringan\"\n",
        "    elif row['RH_avg'] < 60 and row['ss'] > 6:  # Sinar matahari tinggi dan kelembapan rendah JANGAN DIUBAH LAGI KU MUAK\n",
        "        return \"Cerah\"\n",
        "    elif 60 <= row['RH_avg'] <= 80:\n",
        "        return \"Berawan\"\n",
        "    else:\n",
        "        return \"Cerah Berawan\"  # Kondisi lain sebagai default\n",
        "\n",
        "# Tambahkan kolom 'weather_desc' ke DataFrame\n",
        "combined_data['weather_desc'] = combined_data.apply(get_weather_description, axis=1)\n",
        "\n",
        "# Mapping deskripsi cuaca ke angka\n",
        "weather_mapping = {\n",
        "    \"Cerah\": 0,\n",
        "    \"Cerah Berawan\": 1,\n",
        "    \"Berawan\": 2,\n",
        "    \"Kabut/Asap\": 3,\n",
        "    \"Udara Kabur\": 4,\n",
        "    \"Hujan Ringan\": 5,\n",
        "    \"Hujan Sedang\": 6,\n",
        "    \"Hujan Lebat\": 7,\n",
        "    \"Hujan Petir\": 8,\n",
        "    \"Petir\": 9\n",
        "}\n",
        "\n",
        "# Mapping kolom 'weather_desc' ke angka\n",
        "combined_data['weather_desc_num'] = combined_data['weather_desc'].map(weather_mapping)\n",
        "\n",
        "# Mapping angka kembali ke deskripsi cuaca untuk kolom 'weather_desc_label'\n",
        "inverse_weather_mapping = {v: k for k, v in weather_mapping.items()}\n",
        "combined_data['weather_desc_label'] = combined_data['weather_desc_num'].map(inverse_weather_mapping)\n",
        "\n",
        "print(combined_data[['date', 'weather_desc', 'weather_desc_num', 'weather_desc_label']].head())"
      ]
    },
    {
      "cell_type": "markdown",
      "metadata": {
        "id": "NWcHLs4zL5Xp"
      },
      "source": [
        "# Preprocessing Data"
      ]
    },
    {
      "cell_type": "code",
      "execution_count": 20,
      "metadata": {
        "colab": {
          "base_uri": "https://localhost:8080/"
        },
        "id": "sDhyUGJfL5LZ",
        "outputId": "9fff9c33-7ea8-443f-aee3-81861b322142"
      },
      "outputs": [
        {
          "name": "stdout",
          "output_type": "stream",
          "text": [
            "Informasi Data Gabungan:\n",
            "<class 'pandas.core.frame.DataFrame'>\n",
            "RangeIndex: 589265 entries, 0 to 589264\n",
            "Data columns (total 19 columns):\n",
            " #   Column         Non-Null Count   Dtype  \n",
            "---  ------         --------------   -----  \n",
            " 0   date           589265 non-null  object \n",
            " 1   Tn             565882 non-null  float64\n",
            " 2   Tx             551529 non-null  float64\n",
            " 3   Tavg           544160 non-null  float64\n",
            " 4   RH_avg         541083 non-null  float64\n",
            " 5   RR             463881 non-null  float64\n",
            " 6   ss             545544 non-null  float64\n",
            " 7   ff_x           579051 non-null  float64\n",
            " 8   ddd_x          576137 non-null  float64\n",
            " 9   ff_avg         579138 non-null  float64\n",
            " 10  ddd_car        575526 non-null  object \n",
            " 11  station_id     589265 non-null  int64  \n",
            " 12  station_name   589265 non-null  object \n",
            " 13  region_name    589265 non-null  object \n",
            " 14  latitude       589265 non-null  float64\n",
            " 15  longitude      589265 non-null  float64\n",
            " 16  region_id      589265 non-null  int64  \n",
            " 17  province_id    589265 non-null  int64  \n",
            " 18  province_name  589265 non-null  object \n",
            "dtypes: float64(11), int64(3), object(5)\n",
            "memory usage: 85.4+ MB\n",
            "None\n"
          ]
        }
      ],
      "source": [
        "# Muat data cuaca dan detail stasiun/provinsi\n",
        "climate_data = pd.read_csv(file_path_climate, parse_dates=['date'])\n",
        "province_data = pd.read_csv(file_path_province)\n",
        "station_data = pd.read_csv(file_path_station)\n",
        "\n",
        "# Gabungkan data berdasarkan ID stasiun dan provinsi\n",
        "combined_data = pd.merge(climate_data, station_data, on='station_id', how='left')\n",
        "combined_data = pd.merge(combined_data, province_data, on='province_id', how='left')\n",
        "\n",
        "print(\"Informasi Data Gabungan:\")\n",
        "print(combined_data.info())"
      ]
    },
    {
      "cell_type": "code",
      "execution_count": 21,
      "metadata": {
        "colab": {
          "base_uri": "https://localhost:8080/"
        },
        "id": "QYBS6bWNTuBu",
        "outputId": "3b091472-a9fc-4bc9-e099-fe8817755961"
      },
      "outputs": [
        {
          "name": "stdout",
          "output_type": "stream",
          "text": [
            "Missing Values in Combined Data:\n",
            "date             0\n",
            "Tn               0\n",
            "Tx               0\n",
            "Tavg             0\n",
            "RH_avg           0\n",
            "RR               0\n",
            "ss               0\n",
            "ff_x             0\n",
            "ddd_x            0\n",
            "ff_avg           0\n",
            "ddd_car          0\n",
            "station_id       0\n",
            "station_name     0\n",
            "region_name      0\n",
            "latitude         0\n",
            "longitude        0\n",
            "region_id        0\n",
            "province_id      0\n",
            "province_name    0\n",
            "dtype: int64\n",
            "Dataset setelah pembersihan: (589265, 19)\n"
          ]
        }
      ],
      "source": [
        "numeric_columns = ['Tn', 'Tx', 'Tavg', 'RH_avg', 'RR', 'ss', 'ff_x', 'ddd_x', 'ff_avg']\n",
        "\n",
        "# Lakukan interpolasi pada kolom numerik\n",
        "for col in numeric_columns:\n",
        "    combined_data[col] = combined_data[col].interpolate(method='linear', limit_direction='forward')\n",
        "\n",
        "# Isi dengan modus (nilai yang paling sering muncul)\n",
        "combined_data['ddd_car'] = combined_data['ddd_car'].fillna(combined_data['ddd_car'].mode()[0])\n",
        "\n",
        "# Setelah pembersihan, simpan data ke file CSV\n",
        "combined_data.to_csv('combined_data.csv', index=False)\n",
        "\n",
        "# Verifikasi dengan memuat ulang\n",
        "combined_data = pd.read_csv('combined_data.csv')\n",
        "\n",
        "# Periksa nilai yang hilang setelah pembersihan\n",
        "print(\"Missing Values in Combined Data:\")\n",
        "print(combined_data.isnull().sum())\n",
        "\n",
        "print(f\"Dataset setelah pembersihan: {combined_data.shape}\")"
      ]
    },
    {
      "cell_type": "code",
      "execution_count": 22,
      "metadata": {
        "colab": {
          "base_uri": "https://localhost:8080/"
        },
        "id": "f9brck6NUo8j",
        "outputId": "aa2ccbb4-f36f-48e3-c0c9-8b2daeb010b3"
      },
      "outputs": [
        {
          "name": "stdout",
          "output_type": "stream",
          "text": [
            "0    01-01-2010\n",
            "1    02-01-2010\n",
            "2    03-01-2010\n",
            "3    04-01-2010\n",
            "4    05-01-2010\n",
            "5    06-01-2010\n",
            "6    07-01-2010\n",
            "7    08-01-2010\n",
            "8    09-01-2010\n",
            "9    10-01-2010\n",
            "Name: date, dtype: object\n"
          ]
        }
      ],
      "source": [
        "print(combined_data['date'].head(10))"
      ]
    },
    {
      "cell_type": "code",
      "execution_count": 23,
      "metadata": {
        "colab": {
          "base_uri": "https://localhost:8080/"
        },
        "id": "Y8iFO-6INoWs",
        "outputId": "ecf0c06f-abe0-4bd4-c1c1-fa7c11d9f558"
      },
      "outputs": [
        {
          "name": "stdout",
          "output_type": "stream",
          "text": [
            "0       2010-01-01\n",
            "3896    2010-01-01\n",
            "7895    2010-01-01\n",
            "11607   2010-01-01\n",
            "15607   2010-01-01\n",
            "Name: date, dtype: datetime64[ns]\n"
          ]
        }
      ],
      "source": [
        "# Konversi kolom 'date' menjadi format datetime tanpa format spesifik\n",
        "combined_data['date'] = pd.to_datetime(combined_data['date'], errors='coerce')\n",
        "\n",
        "# Sortir data berdasarkan provinsi dan tanggal\n",
        "combined_data.sort_values(by=['province_id', 'date'], inplace=True)\n",
        "\n",
        "# Periksa hasil konversi\n",
        "print(combined_data['date'].head())"
      ]
    },
    {
      "cell_type": "code",
      "execution_count": 24,
      "metadata": {
        "colab": {
          "base_uri": "https://localhost:8080/"
        },
        "id": "dQffMya8OZZh",
        "outputId": "6b0fdcbe-997c-4bd4-b26d-488a3f53cf2f"
      },
      "outputs": [
        {
          "name": "stdout",
          "output_type": "stream",
          "text": [
            "Missing Values in Combined Data:\n",
            "date             355222\n",
            "Tn                    0\n",
            "Tx                    0\n",
            "Tavg                  0\n",
            "RH_avg                0\n",
            "RR                    0\n",
            "ss                    0\n",
            "ff_x                  0\n",
            "ddd_x                 0\n",
            "ff_avg                0\n",
            "ddd_car               0\n",
            "station_id            0\n",
            "station_name          0\n",
            "region_name           0\n",
            "latitude              0\n",
            "longitude             0\n",
            "region_id             0\n",
            "province_id           0\n",
            "province_name         0\n",
            "dtype: int64\n",
            "Dataset setelah pembersihan: (234043, 19)\n"
          ]
        }
      ],
      "source": [
        "# Periksa nilai hilang di dataset gabungan\n",
        "print(\"Missing Values in Combined Data:\")\n",
        "print(combined_data.isnull().sum())\n",
        "\n",
        "# Hapus baris dengan nilai hilang\n",
        "combined_data.dropna(inplace=True)\n",
        "\n",
        "# Tampilkan jumlah baris dan kolom setelah pembersihan\n",
        "print(f\"Dataset setelah pembersihan: {combined_data.shape}\")"
      ]
    },
    {
      "cell_type": "code",
      "execution_count": 25,
      "metadata": {
        "colab": {
          "base_uri": "https://localhost:8080/"
        },
        "id": "3vqvgt87ObzF",
        "outputId": "70b0b507-e4c3-4486-e6a0-05d06d969cdb"
      },
      "outputs": [
        {
          "data": {
            "text/plain": [
              "['scaler.pkl']"
            ]
          },
          "execution_count": 25,
          "metadata": {},
          "output_type": "execute_result"
        }
      ],
      "source": [
        "from sklearn.preprocessing import MinMaxScaler\n",
        "\n",
        "# Pilih fitur numerik yang relevan\n",
        "numeric_features = ['Tavg', 'RH_avg', 'RR', 'ss', 'ff_avg']  # Sesuaikan nama kolom\n",
        "\n",
        "# Inisialisasi scaler\n",
        "scaler = MinMaxScaler()\n",
        "\n",
        "# Normalisasi fitur numerik\n",
        "combined_data[numeric_features] = scaler.fit_transform(combined_data[numeric_features])\n",
        "\n",
        "# Simpan scaler untuk denormalisasi nanti\n",
        "import joblib\n",
        "joblib.dump(scaler, \"scaler.pkl\")"
      ]
    },
    {
      "cell_type": "code",
      "execution_count": 26,
      "metadata": {
        "id": "5esFGQkhOoTH"
      },
      "outputs": [],
      "source": [
        "# Kelompokkan data berdasarkan provinsi\n",
        "province_groups = combined_data.groupby('province_id')"
      ]
    },
    {
      "cell_type": "code",
      "execution_count": 27,
      "metadata": {
        "id": "RgEsObPpQDXj"
      },
      "outputs": [],
      "source": [
        "numeric_features = ['Tavg', 'RH_avg', 'RR', 'ss', 'ff_avg']"
      ]
    },
    {
      "cell_type": "code",
      "execution_count": 28,
      "metadata": {
        "colab": {
          "base_uri": "https://localhost:8080/"
        },
        "id": "mAzU7noxOxFI",
        "outputId": "025ee801-9616-4b7b-f404-d6a5adcc4d89"
      },
      "outputs": [
        {
          "name": "stdout",
          "output_type": "stream",
          "text": [
            "Bentuk data X: (221395, 365, 5) (past_days=365)\n",
            "Bentuk data Y: (221395, 7, 5) (future_days=7)\n"
          ]
        }
      ],
      "source": [
        "# Fungsi untuk membuat jendela waktu\n",
        "def create_time_series_window(data, past_days=365, future_days=7):\n",
        "    X, Y = [], []\n",
        "    for i in range(len(data) - past_days - future_days):\n",
        "        X.append(data[i:i+past_days])  # Data 1 tahun terakhir\n",
        "        Y.append(data[i+past_days:i+past_days+future_days])  # Prediksi 7 hari ke depan\n",
        "    return np.array(X), np.array(Y)\n",
        "\n",
        "# Buat jendela waktu untuk setiap provinsi\n",
        "X, Y = [], []\n",
        "for province, group in province_groups:\n",
        "    group_data = group[numeric_features].values  # Hanya ambil fitur numerik\n",
        "    x, y = create_time_series_window(group_data, past_days=365)  # Menggunakan 1 tahun data historis\n",
        "    X.append(x)\n",
        "    Y.append(y)\n",
        "\n",
        "# Gabungkan semua provinsi\n",
        "X = np.vstack(X)\n",
        "Y = np.vstack(Y)\n",
        "\n",
        "# Periksa bentuk data\n",
        "print(f\"Bentuk data X: {X.shape} (past_days=365)\")\n",
        "print(f\"Bentuk data Y: {Y.shape} (future_days=7)\")"
      ]
    },
    {
      "cell_type": "code",
      "execution_count": 29,
      "metadata": {
        "colab": {
          "base_uri": "https://localhost:8080/"
        },
        "id": "btHWEWG0QZx7",
        "outputId": "be49aa54-893a-4376-c235-94e6d939cdec"
      },
      "outputs": [
        {
          "name": "stdout",
          "output_type": "stream",
          "text": [
            "Bentuk data X_train: (177116, 365, 5)\n",
            "Bentuk data Y_train: (177116, 7, 5)\n",
            "Bentuk data X_test: (44279, 365, 5)\n",
            "Bentuk data Y_test: (44279, 7, 5)\n"
          ]
        }
      ],
      "source": [
        "from sklearn.model_selection import train_test_split\n",
        "\n",
        "# Bagi data menjadi pelatihan dan pengujian\n",
        "X_train, X_test, Y_train, Y_test = train_test_split(X, Y, test_size=0.2, random_state=42)\n",
        "\n",
        "# Periksa bentuk data setelah pembagian\n",
        "print(f\"Bentuk data X_train: {X_train.shape}\")\n",
        "print(f\"Bentuk data Y_train: {Y_train.shape}\")\n",
        "print(f\"Bentuk data X_test: {X_test.shape}\")\n",
        "print(f\"Bentuk data Y_test: {Y_test.shape}\")"
      ]
    },
    {
      "cell_type": "code",
      "execution_count": 30,
      "metadata": {
        "id": "latx7dZeQfzt"
      },
      "outputs": [],
      "source": [
        "# Simpan data X dan Y yang sudah diproses\n",
        "np.save('X_train.npy', X_train)\n",
        "np.save('Y_train.npy', Y_train)\n",
        "np.save('X_test.npy', X_test)\n",
        "np.save('Y_test.npy', Y_test)"
      ]
    },
    {
      "cell_type": "code",
      "execution_count": 31,
      "metadata": {
        "colab": {
          "base_uri": "https://localhost:8080/"
        },
        "id": "ZbP7GomaWak2",
        "outputId": "a950dde6-4ebe-4029-bcd6-d45d8dd9127a"
      },
      "outputs": [
        {
          "name": "stdout",
          "output_type": "stream",
          "text": [
            "            date    Tn    Tx      Tavg    RH_avg        RR        ss  ff_x  \\\n",
            "0     2010-01-01  21.4  30.2  0.690377  0.022916  0.005085  0.005051   7.0   \n",
            "3896  2010-01-01  24.0  30.2  0.661088  0.022521  0.000509  0.013131   3.0   \n",
            "7895  2010-01-01  24.0  31.8  0.677824  0.023311  0.000509  0.033333  11.0   \n",
            "11607 2010-01-01  22.0  31.6  0.677824  0.024496  0.000509  0.002020   4.0   \n",
            "15607 2010-01-01  23.0  32.4  0.677824  0.022916  0.000509  0.047475   4.0   \n",
            "\n",
            "       ddd_x   ff_avg ddd_car  station_id  \\\n",
            "0       90.0  0.03125      E        96001   \n",
            "3896    45.0  0.01875      NE       96009   \n",
            "7895   135.0  0.02500      NE       96011   \n",
            "11607    0.0  0.00000      W        96015   \n",
            "15607   90.0  0.01875      SE       96017   \n",
            "\n",
            "                                        station_name      region_name  \\\n",
            "0                   Stasiun Meteorologi Maimun Saleh      Kota Sabang   \n",
            "3896                Stasiun Meteorologi Malikussaleh  Kab. Aceh Utara   \n",
            "7895        Stasiun Meteorologi Sultan Iskandar Muda  Kab. Aceh Besar   \n",
            "11607  Stasiun Meteorologi Cut Nyak Dhien Nagan Raya  Kab. Nagan Raya   \n",
            "15607                       Stasiun Klimatologi Aceh  Kab. Aceh Besar   \n",
            "\n",
            "       latitude  longitude  region_id  province_id             province_name  \n",
            "0       5.87655   95.33785         20            1  Nanggroe Aceh Darussalam  \n",
            "3896    5.22869   96.94749          8            1  Nanggroe Aceh Darussalam  \n",
            "7895    5.52244   95.41700          6            1  Nanggroe Aceh Darussalam  \n",
            "11607   4.04928   96.24796         15            1  Nanggroe Aceh Darussalam  \n",
            "15607   5.40400   95.46400          6            1  Nanggroe Aceh Darussalam  \n"
          ]
        }
      ],
      "source": [
        "# Filter data for all provinces (no specific province selected)\n",
        "combined_data_filtered = combined_data.copy()\n",
        "\n",
        "# Check the filtered data\n",
        "print(combined_data_filtered.head())"
      ]
    },
    {
      "cell_type": "code",
      "execution_count": 32,
      "metadata": {
        "colab": {
          "base_uri": "https://localhost:8080/"
        },
        "id": "Ga3Y1VLM0hu7",
        "outputId": "b8031314-ee41-4e9d-9084-109854091079"
      },
      "outputs": [
        {
          "name": "stdout",
          "output_type": "stream",
          "text": [
            "Cek NaN sebelum preprocessing:\n",
            "date               0\n",
            "Tn             23383\n",
            "Tx             37736\n",
            "Tavg           45105\n",
            "RH_avg         48182\n",
            "RR            125384\n",
            "ss             43721\n",
            "ff_x           10214\n",
            "ddd_x          13128\n",
            "ff_avg         10127\n",
            "ddd_car        13739\n",
            "station_id         0\n",
            "dtype: int64\n",
            "\n",
            "Cek NaN setelah preprocessing:\n",
            "date              0\n",
            "Tn                0\n",
            "Tx                0\n",
            "Tavg              0\n",
            "RH_avg            0\n",
            "RR                0\n",
            "ss                0\n",
            "ff_x              0\n",
            "ddd_x             0\n",
            "ff_avg            0\n",
            "ddd_car       13739\n",
            "station_id        0\n",
            "dtype: int64\n"
          ]
        }
      ],
      "source": [
        "# Cek apakah ada NaN di data\n",
        "print(\"Cek NaN sebelum preprocessing:\")\n",
        "print(climate_data.isnull().sum())\n",
        "\n",
        "# Tangani NaN\n",
        "# Select only numeric columns for median calculation\n",
        "numeric_data = climate_data.select_dtypes(include=['number'])\n",
        "\n",
        "# Ganti NaN dengan nilai median (atau metode lain, sesuai kebutuhan)\n",
        "climate_data[numeric_data.columns] = numeric_data.fillna(numeric_data.median())\n",
        "\n",
        "# 3. Validasi ulang setelah menangani NaN\n",
        "print(\"\\nCek NaN setelah preprocessing:\")\n",
        "print(climate_data.isnull().sum())"
      ]
    },
    {
      "cell_type": "code",
      "execution_count": 33,
      "metadata": {
        "colab": {
          "base_uri": "https://localhost:8080/"
        },
        "id": "ayXv2jT52Ikj",
        "outputId": "b3141d08-f93d-4fa0-f060-03fc47d89e5c"
      },
      "outputs": [
        {
          "name": "stdout",
          "output_type": "stream",
          "text": [
            "Cek NaN sebelum preprocessing:\n",
            "date              0\n",
            "Tn                0\n",
            "Tx                0\n",
            "Tavg              0\n",
            "RH_avg            0\n",
            "RR                0\n",
            "ss                0\n",
            "ff_x              0\n",
            "ddd_x             0\n",
            "ff_avg            0\n",
            "ddd_car       13739\n",
            "station_id        0\n",
            "dtype: int64\n",
            "Cek NaN setelah preprocessing:\n",
            "date          0\n",
            "Tn            0\n",
            "Tx            0\n",
            "Tavg          0\n",
            "RH_avg        0\n",
            "RR            0\n",
            "ss            0\n",
            "ff_x          0\n",
            "ddd_x         0\n",
            "ff_avg        0\n",
            "ddd_car       0\n",
            "station_id    0\n",
            "dtype: int64\n"
          ]
        }
      ],
      "source": [
        "# Cek jumlah NaN di setiap kolom\n",
        "print(\"Cek NaN sebelum preprocessing:\")\n",
        "print(climate_data.isnull().sum())\n",
        "\n",
        "# Ganti semua NaN di kolom numerik dengan nilai median\n",
        "climate_data = climate_data.fillna(climate_data.median(numeric_only=True))\n",
        "\n",
        "# Ganti semua NaN di kolom non-numerik dengan nilai modus (jika ada)\n",
        "for column in climate_data.select_dtypes(include=['object', 'category']).columns:\n",
        "    climate_data[column] = climate_data[column].fillna(climate_data[column].mode()[0])\n",
        "\n",
        "# Verifikasi hasil\n",
        "print(\"Cek NaN setelah preprocessing:\")\n",
        "print(climate_data.isnull().sum())"
      ]
    },
    {
      "cell_type": "markdown",
      "metadata": {
        "id": "8NfHgYacV2Z5"
      },
      "source": [
        "# Modeling"
      ]
    },
    {
      "cell_type": "markdown",
      "metadata": {
        "id": "le-Wh2rmV49D"
      },
      "source": [
        "**PROSES MODELLING LSTM**"
      ]
    },
    {
      "cell_type": "code",
      "execution_count": 34,
      "metadata": {
        "id": "qvOT6Gw7Bi8C"
      },
      "outputs": [],
      "source": [
        "class CyclicalLearningRate(tf.keras.optimizers.schedules.LearningRateSchedule):  # Mendefinisikan kelas untuk Cyclical Learning Rate, turunan dari LearningRateSchedule.\n",
        "    def __init__(self, initial_learning_rate, maximal_learning_rate, step_size):  # Inisialisasi objek dengan learning rate awal, learning rate maksimal, dan ukuran langkah.\n",
        "        super(CyclicalLearningRate, self).__init__()  # Memanggil konstruktor kelas induk.\n",
        "        self.initial_learning_rate = tf.cast(initial_learning_rate, tf.float32)  # Mengubah initial_learning_rate menjadi tipe tf.float32.\n",
        "        self.maximal_learning_rate = tf.cast(maximal_learning_rate, tf.float32)  # Mengubah maximal_learning_rate menjadi tipe tf.float32.\n",
        "        self.step_size = tf.cast(step_size, tf.float32)  # Mengubah step_size menjadi tipe tf.float32.\n",
        "\n",
        "    def __call__(self, step):  # Mendefinisikan metode untuk menghitung learning rate berdasarkan langkah pelatihan.\n",
        "        step = tf.cast(step, tf.float32)  # Mengubah step menjadi tipe tf.float32.\n",
        "        cycle = tf.floor(1 + step / (2 * self.step_size))  # Menghitung siklus berdasarkan langkah pelatihan.\n",
        "        x = tf.abs(step / self.step_size - 2 * cycle + 1)  # Menghitung nilai absolut untuk skala siklus.\n",
        "        scale_factor = tf.maximum(0.0, (1 - x))  # Menghitung faktor skala dengan nilai maksimum 0.0.\n",
        "        return self.initial_learning_rate + (self.maximal_learning_rate - self.initial_learning_rate) * scale_factor  # Menghitung dan mengembalikan learning rate baru berdasarkan skala faktor.\n",
        "\n",
        "    def get_config(self):  # Mendefinisikan metode untuk mendapatkan konfigurasi objek.\n",
        "        return {\n",
        "            'initial_learning_rate': float(self.initial_learning_rate.numpy()),  # Mengembalikan initial_learning_rate sebagai float.\n",
        "            'maximal_learning_rate': float(self.maximal_learning_rate.numpy()),  # Mengembalikan maximal_learning_rate sebagai float.\n",
        "            'step_size': float(self.step_size.numpy())  # Mengembalikan step_size sebagai float.\n",
        "        }"
      ]
    },
    {
      "cell_type": "code",
      "execution_count": 35,
      "metadata": {
        "colab": {
          "base_uri": "https://localhost:8080/",
          "height": 121
        },
        "id": "xCOZeis0IG6N",
        "outputId": "4d07e893-dba7-4e2c-a787-bd28a9c9e7fd"
      },
      "outputs": [
        {
          "data": {
            "text/html": [
              "<div style=\"max-width:800px; border: 1px solid var(--colab-border-color);\"><style>\n",
              "      pre.function-repr-contents {\n",
              "        overflow-x: auto;\n",
              "        padding: 8px 12px;\n",
              "        max-height: 500px;\n",
              "      }\n",
              "\n",
              "      pre.function-repr-contents.function-repr-contents-collapsed {\n",
              "        cursor: pointer;\n",
              "        max-height: 100px;\n",
              "      }\n",
              "    </style>\n",
              "    <pre style=\"white-space: initial; background:\n",
              "         var(--colab-secondary-surface-color); padding: 8px 12px;\n",
              "         border-bottom: 1px solid var(--colab-border-color);\"><b>keras.src.saving.object_registration.register_keras_serializable.&lt;locals&gt;.decorator</b><br/>def decorator(arg)</pre><pre class=\"function-repr-contents function-repr-contents-collapsed\" style=\"\"><a class=\"filepath\" style=\"display:none\" href=\"#\">/usr/local/lib/python3.10/dist-packages/keras/src/saving/object_registration.py</a>Registers a class with the Keras serialization framework.</pre>\n",
              "      <script>\n",
              "      if (google.colab.kernel.accessAllowed && google.colab.files && google.colab.files.view) {\n",
              "        for (const element of document.querySelectorAll('.filepath')) {\n",
              "          element.style.display = 'block'\n",
              "          element.onclick = (event) => {\n",
              "            event.preventDefault();\n",
              "            event.stopPropagation();\n",
              "            google.colab.files.view(element.textContent, 140);\n",
              "          };\n",
              "        }\n",
              "      }\n",
              "      for (const element of document.querySelectorAll('.function-repr-contents')) {\n",
              "        element.onclick = (event) => {\n",
              "          event.preventDefault();\n",
              "          event.stopPropagation();\n",
              "          element.classList.toggle('function-repr-contents-collapsed');\n",
              "        };\n",
              "      }\n",
              "      </script>\n",
              "      </div>"
            ],
            "text/plain": [
              "<function keras.src.saving.object_registration.register_keras_serializable.<locals>.decorator(arg)>"
            ]
          },
          "execution_count": 35,
          "metadata": {},
          "output_type": "execute_result"
        }
      ],
      "source": [
        "from tensorflow.keras.utils import register_keras_serializable\n",
        "\n",
        "register_keras_serializable('CyclicalLearningRate', CyclicalLearningRate)  # Mendaftarkan kelas CyclicalLearningRate sebagai objek yang dapat diserialisasi di Keras."
      ]
    },
    {
      "cell_type": "code",
      "execution_count": 36,
      "metadata": {
        "id": "dH-N_5HGIKLG"
      },
      "outputs": [],
      "source": [
        "tf.keras.callbacks.Callback()\n",
        "# Input untuk model\n",
        "epoch = 50\n",
        "batch_size = 32\n",
        "validation_split=0.2\n",
        "steps_per_epoch = len(X_train) // batch_size\n",
        "\n",
        "# Menggunakan kelas CyclicalLearningRate yang sudah didefinisikan\n",
        "cyclic_lr = CyclicalLearningRate(\n",
        "    initial_learning_rate=1e-04,\n",
        "    maximal_learning_rate=1e-02,\n",
        "    step_size=6 * steps_per_epoch\n",
        ")\n",
        "\n",
        "callback = tf.keras.callbacks.EarlyStopping(monitor='val_loss', patience=15)\n",
        "optimizer = tf.keras.optimizers.Adam(learning_rate=cyclic_lr, amsgrad=True)\n"
      ]
    },
    {
      "cell_type": "code",
      "execution_count": 39,
      "metadata": {
        "colab": {
          "base_uri": "https://localhost:8080/",
          "height": 429
        },
        "id": "7UGhA_sZLZDZ",
        "outputId": "05d76c76-b3be-4a0c-b12e-4f9d95253828"
      },
      "outputs": [
        {
          "name": "stderr",
          "output_type": "stream",
          "text": [
            "/usr/local/lib/python3.10/dist-packages/keras/src/layers/rnn/rnn.py:204: UserWarning: Do not pass an `input_shape`/`input_dim` argument to a layer. When using Sequential models, prefer using an `Input(shape)` object as the first layer in the model instead.\n",
            "  super().__init__(**kwargs)\n"
          ]
        },
        {
          "data": {
            "text/html": [
              "<pre style=\"white-space:pre;overflow-x:auto;line-height:normal;font-family:Menlo,'DejaVu Sans Mono',consolas,'Courier New',monospace\"><span style=\"font-weight: bold\">Model: \"sequential\"</span>\n",
              "</pre>\n"
            ],
            "text/plain": [
              "\u001b[1mModel: \"sequential\"\u001b[0m\n"
            ]
          },
          "metadata": {},
          "output_type": "display_data"
        },
        {
          "data": {
            "text/html": [
              "<pre style=\"white-space:pre;overflow-x:auto;line-height:normal;font-family:Menlo,'DejaVu Sans Mono',consolas,'Courier New',monospace\">┏━━━━━━━━━━━━━━━━━━━━━━━━━━━━━━━━━━━━━━┳━━━━━━━━━━━━━━━━━━━━━━━━━━━━━┳━━━━━━━━━━━━━━━━━┓\n",
              "┃<span style=\"font-weight: bold\"> Layer (type)                         </span>┃<span style=\"font-weight: bold\"> Output Shape                </span>┃<span style=\"font-weight: bold\">         Param # </span>┃\n",
              "┡━━━━━━━━━━━━━━━━━━━━━━━━━━━━━━━━━━━━━━╇━━━━━━━━━━━━━━━━━━━━━━━━━━━━━╇━━━━━━━━━━━━━━━━━┩\n",
              "│ lstm (<span style=\"color: #0087ff; text-decoration-color: #0087ff\">LSTM</span>)                          │ (<span style=\"color: #00d7ff; text-decoration-color: #00d7ff\">None</span>, <span style=\"color: #00af00; text-decoration-color: #00af00\">365</span>, <span style=\"color: #00af00; text-decoration-color: #00af00\">64</span>)             │          <span style=\"color: #00af00; text-decoration-color: #00af00\">17,920</span> │\n",
              "├──────────────────────────────────────┼─────────────────────────────┼─────────────────┤\n",
              "│ lstm_1 (<span style=\"color: #0087ff; text-decoration-color: #0087ff\">LSTM</span>)                        │ (<span style=\"color: #00d7ff; text-decoration-color: #00d7ff\">None</span>, <span style=\"color: #00af00; text-decoration-color: #00af00\">365</span>, <span style=\"color: #00af00; text-decoration-color: #00af00\">32</span>)             │          <span style=\"color: #00af00; text-decoration-color: #00af00\">12,416</span> │\n",
              "├──────────────────────────────────────┼─────────────────────────────┼─────────────────┤\n",
              "│ flatten (<span style=\"color: #0087ff; text-decoration-color: #0087ff\">Flatten</span>)                    │ (<span style=\"color: #00d7ff; text-decoration-color: #00d7ff\">None</span>, <span style=\"color: #00af00; text-decoration-color: #00af00\">11680</span>)               │               <span style=\"color: #00af00; text-decoration-color: #00af00\">0</span> │\n",
              "├──────────────────────────────────────┼─────────────────────────────┼─────────────────┤\n",
              "│ dense (<span style=\"color: #0087ff; text-decoration-color: #0087ff\">Dense</span>)                        │ (<span style=\"color: #00d7ff; text-decoration-color: #00d7ff\">None</span>, <span style=\"color: #00af00; text-decoration-color: #00af00\">64</span>)                  │         <span style=\"color: #00af00; text-decoration-color: #00af00\">747,584</span> │\n",
              "├──────────────────────────────────────┼─────────────────────────────┼─────────────────┤\n",
              "│ dropout (<span style=\"color: #0087ff; text-decoration-color: #0087ff\">Dropout</span>)                    │ (<span style=\"color: #00d7ff; text-decoration-color: #00d7ff\">None</span>, <span style=\"color: #00af00; text-decoration-color: #00af00\">64</span>)                  │               <span style=\"color: #00af00; text-decoration-color: #00af00\">0</span> │\n",
              "├──────────────────────────────────────┼─────────────────────────────┼─────────────────┤\n",
              "│ dense_1 (<span style=\"color: #0087ff; text-decoration-color: #0087ff\">Dense</span>)                      │ (<span style=\"color: #00d7ff; text-decoration-color: #00d7ff\">None</span>, <span style=\"color: #00af00; text-decoration-color: #00af00\">35</span>)                  │           <span style=\"color: #00af00; text-decoration-color: #00af00\">2,275</span> │\n",
              "├──────────────────────────────────────┼─────────────────────────────┼─────────────────┤\n",
              "│ reshape (<span style=\"color: #0087ff; text-decoration-color: #0087ff\">Reshape</span>)                    │ (<span style=\"color: #00d7ff; text-decoration-color: #00d7ff\">None</span>, <span style=\"color: #00af00; text-decoration-color: #00af00\">7</span>, <span style=\"color: #00af00; text-decoration-color: #00af00\">5</span>)                │               <span style=\"color: #00af00; text-decoration-color: #00af00\">0</span> │\n",
              "└──────────────────────────────────────┴─────────────────────────────┴─────────────────┘\n",
              "</pre>\n"
            ],
            "text/plain": [
              "┏━━━━━━━━━━━━━━━━━━━━━━━━━━━━━━━━━━━━━━┳━━━━━━━━━━━━━━━━━━━━━━━━━━━━━┳━━━━━━━━━━━━━━━━━┓\n",
              "┃\u001b[1m \u001b[0m\u001b[1mLayer (type)                        \u001b[0m\u001b[1m \u001b[0m┃\u001b[1m \u001b[0m\u001b[1mOutput Shape               \u001b[0m\u001b[1m \u001b[0m┃\u001b[1m \u001b[0m\u001b[1m        Param #\u001b[0m\u001b[1m \u001b[0m┃\n",
              "┡━━━━━━━━━━━━━━━━━━━━━━━━━━━━━━━━━━━━━━╇━━━━━━━━━━━━━━━━━━━━━━━━━━━━━╇━━━━━━━━━━━━━━━━━┩\n",
              "│ lstm (\u001b[38;5;33mLSTM\u001b[0m)                          │ (\u001b[38;5;45mNone\u001b[0m, \u001b[38;5;34m365\u001b[0m, \u001b[38;5;34m64\u001b[0m)             │          \u001b[38;5;34m17,920\u001b[0m │\n",
              "├──────────────────────────────────────┼─────────────────────────────┼─────────────────┤\n",
              "│ lstm_1 (\u001b[38;5;33mLSTM\u001b[0m)                        │ (\u001b[38;5;45mNone\u001b[0m, \u001b[38;5;34m365\u001b[0m, \u001b[38;5;34m32\u001b[0m)             │          \u001b[38;5;34m12,416\u001b[0m │\n",
              "├──────────────────────────────────────┼─────────────────────────────┼─────────────────┤\n",
              "│ flatten (\u001b[38;5;33mFlatten\u001b[0m)                    │ (\u001b[38;5;45mNone\u001b[0m, \u001b[38;5;34m11680\u001b[0m)               │               \u001b[38;5;34m0\u001b[0m │\n",
              "├──────────────────────────────────────┼─────────────────────────────┼─────────────────┤\n",
              "│ dense (\u001b[38;5;33mDense\u001b[0m)                        │ (\u001b[38;5;45mNone\u001b[0m, \u001b[38;5;34m64\u001b[0m)                  │         \u001b[38;5;34m747,584\u001b[0m │\n",
              "├──────────────────────────────────────┼─────────────────────────────┼─────────────────┤\n",
              "│ dropout (\u001b[38;5;33mDropout\u001b[0m)                    │ (\u001b[38;5;45mNone\u001b[0m, \u001b[38;5;34m64\u001b[0m)                  │               \u001b[38;5;34m0\u001b[0m │\n",
              "├──────────────────────────────────────┼─────────────────────────────┼─────────────────┤\n",
              "│ dense_1 (\u001b[38;5;33mDense\u001b[0m)                      │ (\u001b[38;5;45mNone\u001b[0m, \u001b[38;5;34m35\u001b[0m)                  │           \u001b[38;5;34m2,275\u001b[0m │\n",
              "├──────────────────────────────────────┼─────────────────────────────┼─────────────────┤\n",
              "│ reshape (\u001b[38;5;33mReshape\u001b[0m)                    │ (\u001b[38;5;45mNone\u001b[0m, \u001b[38;5;34m7\u001b[0m, \u001b[38;5;34m5\u001b[0m)                │               \u001b[38;5;34m0\u001b[0m │\n",
              "└──────────────────────────────────────┴─────────────────────────────┴─────────────────┘\n"
            ]
          },
          "metadata": {},
          "output_type": "display_data"
        },
        {
          "data": {
            "text/html": [
              "<pre style=\"white-space:pre;overflow-x:auto;line-height:normal;font-family:Menlo,'DejaVu Sans Mono',consolas,'Courier New',monospace\"><span style=\"font-weight: bold\"> Total params: </span><span style=\"color: #00af00; text-decoration-color: #00af00\">780,195</span> (2.98 MB)\n",
              "</pre>\n"
            ],
            "text/plain": [
              "\u001b[1m Total params: \u001b[0m\u001b[38;5;34m780,195\u001b[0m (2.98 MB)\n"
            ]
          },
          "metadata": {},
          "output_type": "display_data"
        },
        {
          "data": {
            "text/html": [
              "<pre style=\"white-space:pre;overflow-x:auto;line-height:normal;font-family:Menlo,'DejaVu Sans Mono',consolas,'Courier New',monospace\"><span style=\"font-weight: bold\"> Trainable params: </span><span style=\"color: #00af00; text-decoration-color: #00af00\">780,195</span> (2.98 MB)\n",
              "</pre>\n"
            ],
            "text/plain": [
              "\u001b[1m Trainable params: \u001b[0m\u001b[38;5;34m780,195\u001b[0m (2.98 MB)\n"
            ]
          },
          "metadata": {},
          "output_type": "display_data"
        },
        {
          "data": {
            "text/html": [
              "<pre style=\"white-space:pre;overflow-x:auto;line-height:normal;font-family:Menlo,'DejaVu Sans Mono',consolas,'Courier New',monospace\"><span style=\"font-weight: bold\"> Non-trainable params: </span><span style=\"color: #00af00; text-decoration-color: #00af00\">0</span> (0.00 B)\n",
              "</pre>\n"
            ],
            "text/plain": [
              "\u001b[1m Non-trainable params: \u001b[0m\u001b[38;5;34m0\u001b[0m (0.00 B)\n"
            ]
          },
          "metadata": {},
          "output_type": "display_data"
        }
      ],
      "source": [
        "from tensorflow.keras.models import Sequential\n",
        "from tensorflow.keras.layers import LSTM, Dense, Dropout, Reshape, Flatten\n",
        "from tensorflow.keras.callbacks import EarlyStopping, ReduceLROnPlateau\n",
        "from tensorflow.keras.optimizers import Adam\n",
        "\n",
        "def base_model_lstm():\n",
        "    model = Sequential()\n",
        "    # LSTM dengan CuDNN (default activation='tanh')\n",
        "    model.add(LSTM(units=64, return_sequences=True, input_shape=X_train.shape[-2:]))\n",
        "    model.add(LSTM(units=32, return_sequences=True))\n",
        "    model.add(Flatten())\n",
        "    model.add(Dense(units=64, activation='relu'))\n",
        "    model.add(Dropout(0.2))  # Dropout lebih ringan\n",
        "\n",
        "    # Output layer\n",
        "    model.add(Dense(7 * 5, activation='linear'))  # Total 35 neuron\n",
        "    model.add(Reshape((7, 5)))  # Reshape kembali ke (7, 5)\n",
        "\n",
        "    return model\n",
        "\n",
        "# Optimizer dengan learning rate lebih kecil\n",
        "optimizer = Adam(learning_rate=0.001)\n",
        "\n",
        "# Inisialisasi model\n",
        "lstm_model = base_model_lstm()\n",
        "lstm_model.compile(optimizer=optimizer, loss='mse')\n",
        "\n",
        "# Callback untuk early stopping dan pengurangan learning rate\n",
        "callbacks = [\n",
        "    EarlyStopping(monitor='val_loss', patience=5, restore_best_weights=True),\n",
        "    ReduceLROnPlateau(monitor='val_loss', factor=0.5, patience=3)\n",
        "]\n",
        "\n",
        "# Ringkasan model\n",
        "lstm_model.summary()"
      ]
    },
    {
      "cell_type": "code",
      "execution_count": 40,
      "metadata": {
        "colab": {
          "base_uri": "https://localhost:8080/"
        },
        "id": "FJjw8pgAst6e",
        "outputId": "1b8e8655-03ab-4aa7-99cd-529d0b4b51b2"
      },
      "outputs": [
        {
          "name": "stdout",
          "output_type": "stream",
          "text": [
            "(177116, 365, 5) (177116, 7, 5)\n"
          ]
        }
      ],
      "source": [
        "print(X_train.shape, Y_train.shape)"
      ]
    },
    {
      "cell_type": "code",
      "execution_count": 41,
      "metadata": {
        "colab": {
          "base_uri": "https://localhost:8080/"
        },
        "id": "WrOMmpVzvbfv",
        "outputId": "f179260c-c330-45cc-93fe-2d313ca1b6e4"
      },
      "outputs": [
        {
          "name": "stdout",
          "output_type": "stream",
          "text": [
            "0 0\n",
            "0 0\n"
          ]
        }
      ],
      "source": [
        "print(np.isnan(X_train).sum(), np.isnan(Y_train).sum())\n",
        "print(np.isinf(X_train).sum(), np.isinf(Y_train).sum())"
      ]
    },
    {
      "cell_type": "markdown",
      "metadata": {
        "id": "GdVIsADGXPhg"
      },
      "source": [
        "# Compile the model"
      ]
    },
    {
      "cell_type": "markdown",
      "metadata": {
        "id": "1HhVVzbtXVau"
      },
      "source": [
        "# Train the Model"
      ]
    },
    {
      "cell_type": "code",
      "execution_count": 44,
      "metadata": {
        "colab": {
          "base_uri": "https://localhost:8080/"
        },
        "id": "BJpevqxIXX0f",
        "outputId": "0da829e7-496b-47f0-a5dc-4fb319f20dea"
      },
      "outputs": [
        {
          "name": "stdout",
          "output_type": "stream",
          "text": [
            "Epoch 1/100\n",
            "\u001b[1m5535/5535\u001b[0m \u001b[32m━━━━━━━━━━━━━━━━━━━━\u001b[0m\u001b[37m\u001b[0m \u001b[1m160s\u001b[0m 28ms/step - loss: 0.0046 - val_loss: 0.0011\n",
            "Epoch 2/100\n",
            "\u001b[1m5535/5535\u001b[0m \u001b[32m━━━━━━━━━━━━━━━━━━━━\u001b[0m\u001b[37m\u001b[0m \u001b[1m190s\u001b[0m 26ms/step - loss: 0.0012 - val_loss: 0.0010\n",
            "Epoch 3/100\n",
            "\u001b[1m5535/5535\u001b[0m \u001b[32m━━━━━━━━━━━━━━━━━━━━\u001b[0m\u001b[37m\u001b[0m \u001b[1m206s\u001b[0m 27ms/step - loss: 0.0011 - val_loss: 0.0010\n",
            "Epoch 4/100\n",
            "\u001b[1m5535/5535\u001b[0m \u001b[32m━━━━━━━━━━━━━━━━━━━━\u001b[0m\u001b[37m\u001b[0m \u001b[1m199s\u001b[0m 26ms/step - loss: 0.0011 - val_loss: 9.9540e-04\n",
            "Epoch 5/100\n",
            "\u001b[1m5535/5535\u001b[0m \u001b[32m━━━━━━━━━━━━━━━━━━━━\u001b[0m\u001b[37m\u001b[0m \u001b[1m202s\u001b[0m 26ms/step - loss: 0.0010 - val_loss: 9.8952e-04\n",
            "Epoch 6/100\n",
            "\u001b[1m5535/5535\u001b[0m \u001b[32m━━━━━━━━━━━━━━━━━━━━\u001b[0m\u001b[37m\u001b[0m \u001b[1m203s\u001b[0m 27ms/step - loss: 0.0010 - val_loss: 9.9193e-04\n",
            "Epoch 7/100\n",
            "\u001b[1m5535/5535\u001b[0m \u001b[32m━━━━━━━━━━━━━━━━━━━━\u001b[0m\u001b[37m\u001b[0m \u001b[1m146s\u001b[0m 26ms/step - loss: 9.9731e-04 - val_loss: 9.6654e-04\n",
            "Epoch 8/100\n",
            "\u001b[1m5535/5535\u001b[0m \u001b[32m━━━━━━━━━━━━━━━━━━━━\u001b[0m\u001b[37m\u001b[0m \u001b[1m199s\u001b[0m 26ms/step - loss: 9.8489e-04 - val_loss: 9.7102e-04\n",
            "Epoch 9/100\n",
            "\u001b[1m5535/5535\u001b[0m \u001b[32m━━━━━━━━━━━━━━━━━━━━\u001b[0m\u001b[37m\u001b[0m \u001b[1m205s\u001b[0m 26ms/step - loss: 9.7435e-04 - val_loss: 9.4865e-04\n",
            "Epoch 10/100\n",
            "\u001b[1m5535/5535\u001b[0m \u001b[32m━━━━━━━━━━━━━━━━━━━━\u001b[0m\u001b[37m\u001b[0m \u001b[1m199s\u001b[0m 26ms/step - loss: 9.5529e-04 - val_loss: 9.4872e-04\n",
            "Epoch 11/100\n",
            "\u001b[1m5535/5535\u001b[0m \u001b[32m━━━━━━━━━━━━━━━━━━━━\u001b[0m\u001b[37m\u001b[0m \u001b[1m203s\u001b[0m 26ms/step - loss: 9.3800e-04 - val_loss: 9.3479e-04\n",
            "Epoch 12/100\n",
            "\u001b[1m5535/5535\u001b[0m \u001b[32m━━━━━━━━━━━━━━━━━━━━\u001b[0m\u001b[37m\u001b[0m \u001b[1m202s\u001b[0m 26ms/step - loss: 9.2592e-04 - val_loss: 9.3890e-04\n",
            "Epoch 13/100\n",
            "\u001b[1m5535/5535\u001b[0m \u001b[32m━━━━━━━━━━━━━━━━━━━━\u001b[0m\u001b[37m\u001b[0m \u001b[1m201s\u001b[0m 26ms/step - loss: 9.1159e-04 - val_loss: 9.3351e-04\n",
            "Epoch 14/100\n",
            "\u001b[1m5535/5535\u001b[0m \u001b[32m━━━━━━━━━━━━━━━━━━━━\u001b[0m\u001b[37m\u001b[0m \u001b[1m204s\u001b[0m 26ms/step - loss: 8.9788e-04 - val_loss: 9.2993e-04\n",
            "Epoch 15/100\n",
            "\u001b[1m5535/5535\u001b[0m \u001b[32m━━━━━━━━━━━━━━━━━━━━\u001b[0m\u001b[37m\u001b[0m \u001b[1m199s\u001b[0m 26ms/step - loss: 8.8461e-04 - val_loss: 9.3377e-04\n",
            "Epoch 16/100\n",
            "\u001b[1m5535/5535\u001b[0m \u001b[32m━━━━━━━━━━━━━━━━━━━━\u001b[0m\u001b[37m\u001b[0m \u001b[1m145s\u001b[0m 26ms/step - loss: 8.7064e-04 - val_loss: 9.2721e-04\n",
            "Epoch 17/100\n",
            "\u001b[1m5535/5535\u001b[0m \u001b[32m━━━━━━━━━━━━━━━━━━━━\u001b[0m\u001b[37m\u001b[0m \u001b[1m201s\u001b[0m 26ms/step - loss: 8.6618e-04 - val_loss: 9.2698e-04\n",
            "Epoch 18/100\n",
            "\u001b[1m5535/5535\u001b[0m \u001b[32m━━━━━━━━━━━━━━━━━━━━\u001b[0m\u001b[37m\u001b[0m \u001b[1m143s\u001b[0m 26ms/step - loss: 8.4979e-04 - val_loss: 9.2258e-04\n",
            "Epoch 19/100\n",
            "\u001b[1m5535/5535\u001b[0m \u001b[32m━━━━━━━━━━━━━━━━━━━━\u001b[0m\u001b[37m\u001b[0m \u001b[1m202s\u001b[0m 26ms/step - loss: 8.3757e-04 - val_loss: 9.2266e-04\n",
            "Epoch 20/100\n",
            "\u001b[1m5535/5535\u001b[0m \u001b[32m━━━━━━━━━━━━━━━━━━━━\u001b[0m\u001b[37m\u001b[0m \u001b[1m203s\u001b[0m 26ms/step - loss: 8.2992e-04 - val_loss: 9.2469e-04\n",
            "Epoch 21/100\n",
            "\u001b[1m5535/5535\u001b[0m \u001b[32m━━━━━━━━━━━━━━━━━━━━\u001b[0m\u001b[37m\u001b[0m \u001b[1m201s\u001b[0m 26ms/step - loss: 8.2067e-04 - val_loss: 9.1746e-04\n",
            "Epoch 22/100\n",
            "\u001b[1m5535/5535\u001b[0m \u001b[32m━━━━━━━━━━━━━━━━━━━━\u001b[0m\u001b[37m\u001b[0m \u001b[1m201s\u001b[0m 26ms/step - loss: 8.1560e-04 - val_loss: 9.2919e-04\n",
            "Epoch 23/100\n",
            "\u001b[1m5535/5535\u001b[0m \u001b[32m━━━━━━━━━━━━━━━━━━━━\u001b[0m\u001b[37m\u001b[0m \u001b[1m204s\u001b[0m 26ms/step - loss: 7.9985e-04 - val_loss: 9.2583e-04\n",
            "Epoch 24/100\n",
            "\u001b[1m5535/5535\u001b[0m \u001b[32m━━━━━━━━━━━━━━━━━━━━\u001b[0m\u001b[37m\u001b[0m \u001b[1m199s\u001b[0m 26ms/step - loss: 7.9442e-04 - val_loss: 9.1668e-04\n",
            "Epoch 25/100\n",
            "\u001b[1m5535/5535\u001b[0m \u001b[32m━━━━━━━━━━━━━━━━━━━━\u001b[0m\u001b[37m\u001b[0m \u001b[1m144s\u001b[0m 26ms/step - loss: 7.8322e-04 - val_loss: 9.2118e-04\n",
            "Epoch 26/100\n",
            "\u001b[1m5535/5535\u001b[0m \u001b[32m━━━━━━━━━━━━━━━━━━━━\u001b[0m\u001b[37m\u001b[0m \u001b[1m200s\u001b[0m 26ms/step - loss: 7.7838e-04 - val_loss: 9.1469e-04\n",
            "Epoch 27/100\n",
            "\u001b[1m5535/5535\u001b[0m \u001b[32m━━━━━━━━━━━━━━━━━━━━\u001b[0m\u001b[37m\u001b[0m \u001b[1m145s\u001b[0m 26ms/step - loss: 7.6466e-04 - val_loss: 9.2003e-04\n",
            "Epoch 28/100\n",
            "\u001b[1m5535/5535\u001b[0m \u001b[32m━━━━━━━━━━━━━━━━━━━━\u001b[0m\u001b[37m\u001b[0m \u001b[1m199s\u001b[0m 26ms/step - loss: 7.6896e-04 - val_loss: 9.0969e-04\n",
            "Epoch 29/100\n",
            "\u001b[1m5535/5535\u001b[0m \u001b[32m━━━━━━━━━━━━━━━━━━━━\u001b[0m\u001b[37m\u001b[0m \u001b[1m204s\u001b[0m 26ms/step - loss: 7.5809e-04 - val_loss: 9.1206e-04\n",
            "Epoch 30/100\n",
            "\u001b[1m5535/5535\u001b[0m \u001b[32m━━━━━━━━━━━━━━━━━━━━\u001b[0m\u001b[37m\u001b[0m \u001b[1m200s\u001b[0m 26ms/step - loss: 7.5164e-04 - val_loss: 9.0848e-04\n",
            "Epoch 31/100\n",
            "\u001b[1m5535/5535\u001b[0m \u001b[32m━━━━━━━━━━━━━━━━━━━━\u001b[0m\u001b[37m\u001b[0m \u001b[1m144s\u001b[0m 26ms/step - loss: 7.4588e-04 - val_loss: 9.1824e-04\n",
            "Epoch 32/100\n",
            "\u001b[1m5535/5535\u001b[0m \u001b[32m━━━━━━━━━━━━━━━━━━━━\u001b[0m\u001b[37m\u001b[0m \u001b[1m201s\u001b[0m 26ms/step - loss: 7.4174e-04 - val_loss: 8.9964e-04\n",
            "Epoch 33/100\n",
            "\u001b[1m5535/5535\u001b[0m \u001b[32m━━━━━━━━━━━━━━━━━━━━\u001b[0m\u001b[37m\u001b[0m \u001b[1m203s\u001b[0m 26ms/step - loss: 7.3692e-04 - val_loss: 9.1480e-04\n",
            "Epoch 34/100\n",
            "\u001b[1m5535/5535\u001b[0m \u001b[32m━━━━━━━━━━━━━━━━━━━━\u001b[0m\u001b[37m\u001b[0m \u001b[1m201s\u001b[0m 26ms/step - loss: 7.3383e-04 - val_loss: 9.1434e-04\n",
            "Epoch 35/100\n",
            "\u001b[1m5535/5535\u001b[0m \u001b[32m━━━━━━━━━━━━━━━━━━━━\u001b[0m\u001b[37m\u001b[0m \u001b[1m202s\u001b[0m 26ms/step - loss: 7.2891e-04 - val_loss: 9.1535e-04\n",
            "Epoch 36/100\n",
            "\u001b[1m5535/5535\u001b[0m \u001b[32m━━━━━━━━━━━━━━━━━━━━\u001b[0m\u001b[37m\u001b[0m \u001b[1m202s\u001b[0m 26ms/step - loss: 7.2099e-04 - val_loss: 9.1186e-04\n",
            "Epoch 37/100\n",
            "\u001b[1m5535/5535\u001b[0m \u001b[32m━━━━━━━━━━━━━━━━━━━━\u001b[0m\u001b[37m\u001b[0m \u001b[1m202s\u001b[0m 26ms/step - loss: 7.1966e-04 - val_loss: 9.0429e-04\n",
            "Epoch 38/100\n",
            "\u001b[1m5535/5535\u001b[0m \u001b[32m━━━━━━━━━━━━━━━━━━━━\u001b[0m\u001b[37m\u001b[0m \u001b[1m202s\u001b[0m 26ms/step - loss: 7.1521e-04 - val_loss: 9.0657e-04\n",
            "Epoch 39/100\n",
            "\u001b[1m5535/5535\u001b[0m \u001b[32m━━━━━━━━━━━━━━━━━━━━\u001b[0m\u001b[37m\u001b[0m \u001b[1m201s\u001b[0m 26ms/step - loss: 7.1564e-04 - val_loss: 8.9516e-04\n",
            "Epoch 40/100\n",
            "\u001b[1m5535/5535\u001b[0m \u001b[32m━━━━━━━━━━━━━━━━━━━━\u001b[0m\u001b[37m\u001b[0m \u001b[1m203s\u001b[0m 26ms/step - loss: 7.0797e-04 - val_loss: 9.0523e-04\n",
            "Epoch 41/100\n",
            "\u001b[1m5535/5535\u001b[0m \u001b[32m━━━━━━━━━━━━━━━━━━━━\u001b[0m\u001b[37m\u001b[0m \u001b[1m202s\u001b[0m 26ms/step - loss: 7.0098e-04 - val_loss: 9.1139e-04\n",
            "Epoch 42/100\n",
            "\u001b[1m5535/5535\u001b[0m \u001b[32m━━━━━━━━━━━━━━━━━━━━\u001b[0m\u001b[37m\u001b[0m \u001b[1m200s\u001b[0m 26ms/step - loss: 6.9980e-04 - val_loss: 9.0462e-04\n",
            "Epoch 43/100\n",
            "\u001b[1m5535/5535\u001b[0m \u001b[32m━━━━━━━━━━━━━━━━━━━━\u001b[0m\u001b[37m\u001b[0m \u001b[1m204s\u001b[0m 26ms/step - loss: 6.9911e-04 - val_loss: 8.9772e-04\n",
            "Epoch 44/100\n",
            "\u001b[1m5535/5535\u001b[0m \u001b[32m━━━━━━━━━━━━━━━━━━━━\u001b[0m\u001b[37m\u001b[0m \u001b[1m144s\u001b[0m 26ms/step - loss: 6.9260e-04 - val_loss: 8.9637e-04\n",
            "Epoch 45/100\n",
            "\u001b[1m5535/5535\u001b[0m \u001b[32m━━━━━━━━━━━━━━━━━━━━\u001b[0m\u001b[37m\u001b[0m \u001b[1m143s\u001b[0m 26ms/step - loss: 6.9042e-04 - val_loss: 9.0216e-04\n",
            "Epoch 46/100\n",
            "\u001b[1m5535/5535\u001b[0m \u001b[32m━━━━━━━━━━━━━━━━━━━━\u001b[0m\u001b[37m\u001b[0m \u001b[1m202s\u001b[0m 26ms/step - loss: 6.8567e-04 - val_loss: 9.0442e-04\n",
            "Epoch 47/100\n",
            "\u001b[1m5535/5535\u001b[0m \u001b[32m━━━━━━━━━━━━━━━━━━━━\u001b[0m\u001b[37m\u001b[0m \u001b[1m202s\u001b[0m 26ms/step - loss: 6.7891e-04 - val_loss: 9.0333e-04\n",
            "Epoch 48/100\n",
            "\u001b[1m5535/5535\u001b[0m \u001b[32m━━━━━━━━━━━━━━━━━━━━\u001b[0m\u001b[37m\u001b[0m \u001b[1m203s\u001b[0m 26ms/step - loss: 6.8600e-04 - val_loss: 9.1002e-04\n",
            "Epoch 49/100\n",
            "\u001b[1m5535/5535\u001b[0m \u001b[32m━━━━━━━━━━━━━━━━━━━━\u001b[0m\u001b[37m\u001b[0m \u001b[1m201s\u001b[0m 26ms/step - loss: 6.7980e-04 - val_loss: 8.9930e-04\n",
            "Epoch 50/100\n",
            "\u001b[1m5535/5535\u001b[0m \u001b[32m━━━━━━━━━━━━━━━━━━━━\u001b[0m\u001b[37m\u001b[0m \u001b[1m201s\u001b[0m 26ms/step - loss: 6.7347e-04 - val_loss: 9.0994e-04\n",
            "Epoch 51/100\n",
            "\u001b[1m5535/5535\u001b[0m \u001b[32m━━━━━━━━━━━━━━━━━━━━\u001b[0m\u001b[37m\u001b[0m \u001b[1m144s\u001b[0m 26ms/step - loss: 6.7227e-04 - val_loss: 9.0076e-04\n",
            "Epoch 52/100\n",
            "\u001b[1m5535/5535\u001b[0m \u001b[32m━━━━━━━━━━━━━━━━━━━━\u001b[0m\u001b[37m\u001b[0m \u001b[1m201s\u001b[0m 26ms/step - loss: 6.7448e-04 - val_loss: 9.1268e-04\n",
            "Epoch 53/100\n",
            "\u001b[1m5535/5535\u001b[0m \u001b[32m━━━━━━━━━━━━━━━━━━━━\u001b[0m\u001b[37m\u001b[0m \u001b[1m204s\u001b[0m 26ms/step - loss: 6.7242e-04 - val_loss: 9.0237e-04\n",
            "Epoch 54/100\n",
            "\u001b[1m5535/5535\u001b[0m \u001b[32m━━━━━━━━━━━━━━━━━━━━\u001b[0m\u001b[37m\u001b[0m \u001b[1m200s\u001b[0m 26ms/step - loss: 6.6905e-04 - val_loss: 9.0246e-04\n"
          ]
        }
      ],
      "source": [
        "from tensorflow.keras.callbacks import EarlyStopping\n",
        "early_stop = EarlyStopping(monitor='val_loss', patience=5, restore_best_weights=True)\n",
        "history = lstm_model.fit(\n",
        "    X_train, Y_train,\n",
        "    epochs=100,\n",
        "    batch_size=32,\n",
        "    validation_data=(X_test, Y_test),\n",
        "    callbacks=[early_stop]\n",
        ")"
      ]
    },
    {
      "cell_type": "markdown",
      "metadata": {
        "id": "3l5XZAzXmkbF"
      },
      "source": [
        "# Plot training and validation loss"
      ]
    },
    {
      "cell_type": "code",
      "execution_count": 45,
      "metadata": {
        "colab": {
          "base_uri": "https://localhost:8080/",
          "height": 472
        },
        "id": "-v0Ep8smmmC9",
        "outputId": "189aa7e0-47ea-482f-89a9-72ea7a77b53e"
      },
      "outputs": [
        {
          "data": {
            "image/png": "[encoded data removed]",
            "text/plain": [
              "<Figure size 640x480 with 1 Axes>"
            ]
          },
          "metadata": {},
          "output_type": "display_data"
        }
      ],
      "source": [
        "import matplotlib.pyplot as plt\n",
        "\n",
        "# Plot training & validation loss values\n",
        "plt.plot(history.history['loss'], label='Training Loss')\n",
        "plt.plot(history.history['val_loss'], label='Validation Loss')\n",
        "plt.title('Training and Validation Loss')\n",
        "plt.xlabel('Epochs')\n",
        "plt.ylabel('Loss')\n",
        "plt.legend()\n",
        "plt.show()"
      ]
    },
    {
      "cell_type": "markdown",
      "metadata": {
        "id": "rRFdG3xlmqc4"
      },
      "source": [
        "# EDA"
      ]
    },
    {
      "cell_type": "markdown",
      "metadata": {
        "id": "dC8H_IIQ5y-l"
      },
      "source": [
        "Indeks Panas (Heat Index) dan Wind Chill: Hitung berdasarkan suhu dan kelembapan atau kecepatan angin."
      ]
    },
    {
      "cell_type": "code",
      "execution_count": 46,
      "metadata": {
        "id": "wvvBOBFO36kK"
      },
      "outputs": [],
      "source": [
        "# Hitung Heat Index\n",
        "combined_data['heat_index'] = combined_data['Tavg'] + (0.1 * combined_data['RH_avg'])\n",
        "\n",
        "# Hitung Wind Chill\n",
        "combined_data['wind_chill'] = 13.12 + 0.6215 * combined_data['Tavg'] - 11.37 * (combined_data['ff_avg'] ** 0.16) + 0.3965 * combined_data['Tavg'] * (combined_data['ff_avg'] ** 0.16)\n"
      ]
    },
    {
      "cell_type": "markdown",
      "metadata": {
        "id": "OA3qTv6n51q5"
      },
      "source": [
        "Indikator bulan atau musim untuk membantu model menangkap pola musiman.\n"
      ]
    },
    {
      "cell_type": "code",
      "execution_count": 47,
      "metadata": {
        "id": "sQ-A5gr757Z6"
      },
      "outputs": [],
      "source": [
        "# Extract month from the 'date' column\n",
        "combined_data['month'] = combined_data['date'].dt.month\n",
        "\n",
        "# Tambahkan indikator musim (Spring, Summer, Fall, Winter)\n",
        "combined_data['season'] = combined_data['month'].apply(lambda x: 'Spring' if x in [3, 4, 5]\n",
        "                                                       else 'Summer' if x in [6, 7, 8]\n",
        "                                                       else 'Fall' if x in [9, 10, 11]\n",
        "                                                       else 'Winter')"
      ]
    },
    {
      "cell_type": "code",
      "execution_count": 48,
      "metadata": {
        "colab": {
          "base_uri": "https://localhost:8080/",
          "height": 1000
        },
        "id": "KP32w3urZ1TF",
        "outputId": "9afcd9ce-f6cd-476f-e493-c6c87a4bf939"
      },
      "outputs": [
        {
          "data": {
            "image/png": "[encoded data removed]",
            "text/plain": [
              "<Figure size 1000x600 with 1 Axes>"
            ]
          },
          "metadata": {},
          "output_type": "display_data"
        },
        {
          "data": {
            "image/png": "[encoded data removed]",
            "text/plain": [
              "<Figure size 1000x600 with 1 Axes>"
            ]
          },
          "metadata": {},
          "output_type": "display_data"
        }
      ],
      "source": [
        "# Grafik suhu harian\n",
        "plt.figure(figsize=(10, 6))\n",
        "plt.plot(combined_data['date'], combined_data['Tavg'])\n",
        "plt.title('Grafik Suhu Harian')\n",
        "plt.xlabel('Tanggal')\n",
        "plt.ylabel('Suhu Rata-rata (°C)')\n",
        "plt.show()\n",
        "\n",
        "# Tren Curah Hujan dan Durasi Penyinaran Matahari\n",
        "plt.figure(figsize=(10, 6))\n",
        "plt.plot(combined_data['date'], combined_data['RR'], label='Curah Hujan')\n",
        "plt.plot(combined_data['date'], combined_data['ss'], label='Durasi Penyinaran Matahari')\n",
        "plt.title('Tren Curah Hujan dan Durasi Penyinaran Matahari')\n",
        "plt.xlabel('Tanggal')\n",
        "plt.ylabel('Nilai')\n",
        "plt.legend()\n",
        "plt.show()"
      ]
    },
    {
      "cell_type": "code",
      "execution_count": 49,
      "metadata": {
        "colab": {
          "base_uri": "https://localhost:8080/",
          "height": 607
        },
        "id": "2er6KFkhz8q2",
        "outputId": "40225548-3949-4606-b97e-f966f62cc0ed"
      },
      "outputs": [
        {
          "data": {
            "image/png": "[encoded data removed]",
            "text/plain": [
              "<Figure size 1200x600 with 2 Axes>"
            ]
          },
          "metadata": {},
          "output_type": "display_data"
        }
      ],
      "source": [
        "# Visualisasi Heatmap per Provinsi berdasarkan suhu rata-rata (Tavg)\n",
        "province_avg_temp = combined_data.groupby('province_name')['Tavg'].mean().sort_values() # Use 'combined_data'\n",
        "plt.figure(figsize=(12, 6))\n",
        "sns.heatmap(province_avg_temp.values.reshape(1, -1), annot=True, fmt='.2f', cmap='coolwarm', xticklabels=province_avg_temp.index, yticklabels=['Avg Temp'])\n",
        "plt.title('Average Temperature by Province')\n",
        "plt.tight_layout()\n",
        "plt.show()"
      ]
    },
    {
      "cell_type": "markdown",
      "metadata": {
        "id": "NdhXdHz9IPMO"
      },
      "source": [
        "# Coba"
      ]
    },
    {
      "cell_type": "code",
      "execution_count": 52,
      "metadata": {
        "colab": {
          "base_uri": "https://localhost:8080/"
        },
        "id": "coauKpA00kZl",
        "outputId": "42e8599f-93be-4d10-e8dc-582df60aa1a9"
      },
      "outputs": [
        {
          "name": "stdout",
          "output_type": "stream",
          "text": [
            "Masukkan nama provinsi: Bali\n",
            "\u001b[1m1/1\u001b[0m \u001b[32m━━━━━━━━━━━━━━━━━━━━\u001b[0m\u001b[37m\u001b[0m \u001b[1m0s\u001b[0m 240ms/step\n",
            "\u001b[1m1/1\u001b[0m \u001b[32m━━━━━━━━━━━━━━━━━━━━\u001b[0m\u001b[37m\u001b[0m \u001b[1m0s\u001b[0m 24ms/step\n",
            "\u001b[1m1/1\u001b[0m \u001b[32m━━━━━━━━━━━━━━━━━━━━\u001b[0m\u001b[37m\u001b[0m \u001b[1m0s\u001b[0m 22ms/step\n",
            "\u001b[1m1/1\u001b[0m \u001b[32m━━━━━━━━━━━━━━━━━━━━\u001b[0m\u001b[37m\u001b[0m \u001b[1m0s\u001b[0m 25ms/step\n",
            "\u001b[1m1/1\u001b[0m \u001b[32m━━━━━━━━━━━━━━━━━━━━\u001b[0m\u001b[37m\u001b[0m \u001b[1m0s\u001b[0m 23ms/step\n",
            "\u001b[1m1/1\u001b[0m \u001b[32m━━━━━━━━━━━━━━━━━━━━\u001b[0m\u001b[37m\u001b[0m \u001b[1m0s\u001b[0m 22ms/step\n",
            "\u001b[1m1/1\u001b[0m \u001b[32m━━━━━━━━━━━━━━━━━━━━\u001b[0m\u001b[37m\u001b[0m \u001b[1m0s\u001b[0m 24ms/step\n",
            "Wednesday: Cuaca = Hujan Lebat + Suhu rata-rata = 27.3°C, Kelembapan rata-rata = 81.7%, Curah Hujan = 5.4 mm, Durasi sinar matahari = 5.2 jam, Kecepatan angin rata-rata = 2.1 m/s\n",
            "Thursday: Cuaca = Hujan Ringan + Suhu rata-rata = 27.7°C, Kelembapan rata-rata = 81.2%, Curah Hujan = 5.5 mm, Durasi sinar matahari = 5.1 jam, Kecepatan angin rata-rata = 2.0 m/s\n",
            "Friday: Cuaca = Hujan Lebat + Suhu rata-rata = 27.5°C, Kelembapan rata-rata = 81.7%, Curah Hujan = 5.5 mm, Durasi sinar matahari = 5.4 jam, Kecepatan angin rata-rata = 1.9 m/s\n",
            "Saturday: Cuaca = Hujan Sedang + Suhu rata-rata = 28.2°C, Kelembapan rata-rata = 80.1%, Curah Hujan = 2.9 mm, Durasi sinar matahari = 6.0 jam, Kecepatan angin rata-rata = 2.2 m/s\n",
            "Sunday: Cuaca = Hujan Sedang + Suhu rata-rata = 27.6°C, Kelembapan rata-rata = 81.2%, Curah Hujan = 4.4 mm, Durasi sinar matahari = 5.4 jam, Kecepatan angin rata-rata = 2.1 m/s\n",
            "Monday: Cuaca = Hujan Sedang + Suhu rata-rata = 27.4°C, Kelembapan rata-rata = 82.1%, Curah Hujan = 5.8 mm, Durasi sinar matahari = 5.2 jam, Kecepatan angin rata-rata = 1.8 m/s\n",
            "Tuesday: Cuaca = Cerah + Suhu rata-rata = 27.3°C, Kelembapan rata-rata = 82.1%, Curah Hujan = 5.9 mm, Durasi sinar matahari = 5.3 jam, Kecepatan angin rata-rata = 1.9 m/s\n"
          ]
        }
      ],
      "source": [
        "import numpy as np\n",
        "import pandas as pd\n",
        "import datetime\n",
        "\n",
        "# Function to make weather predictions\n",
        "def predict_weather(province_name, lstm_model, scaler, combined_data):\n",
        "    # Filter data for the specific province\n",
        "    province_data = combined_data[combined_data['province_name'] == province_name][numeric_features].values\n",
        "\n",
        "    # Get the last 365 days of data for input\n",
        "    input_data = province_data[-365:]\n",
        "    input_data = input_data.reshape((1, input_data.shape[0], input_data.shape[1]))\n",
        "\n",
        "    # Predict the next 7 days\n",
        "    forecast = []\n",
        "    for _ in range(7):\n",
        "        prediction = lstm_model.predict(input_data)\n",
        "        forecast.append(prediction[0, -1])  # Only take the last day's prediction\n",
        "        # Update the input data for the next prediction\n",
        "        input_data = np.roll(input_data, -1, axis=1)  # Shift data one day back\n",
        "        input_data[0, -1] = prediction[0, -1]  # Replace last day with prediction\n",
        "\n",
        "    # Convert predictions back to the original scale\n",
        "    forecast = scaler.inverse_transform(forecast)\n",
        "\n",
        "    # Get the real-time date and the next 7 days\n",
        "    today = datetime.date.today()\n",
        "    days = [(today + datetime.timedelta(days=i)).strftime('%A') for i in range(7)]  # Get real-time days\n",
        "\n",
        "    weather_conditions = [\"Cerah\", \"Berawan\", \"Hujan Ringan\", \"Hujan Sedang\", \"Hujan Lebat\"]\n",
        "\n",
        "    for i, pred in enumerate(forecast):\n",
        "        weather_desc = weather_conditions[np.random.choice(len(weather_conditions))]  # Randomly assign weather\n",
        "        print(f\"{days[i]}: Cuaca = {weather_desc} + Suhu rata-rata = {pred[0]:.1f}°C, Kelembapan rata-rata = {pred[1]:.1f}%, \"\n",
        "              f\"Curah Hujan = {pred[2]:.1f} mm, Durasi sinar matahari = {pred[3]:.1f} jam, Kecepatan angin rata-rata = {pred[4]:.1f} m/s\")\n",
        "\n",
        "# Example usage\n",
        "province_name = input(\"Masukkan nama provinsi: \")  # Allow dynamic province input\n",
        "predict_weather(province_name, lstm_model, scaler, combined_data)"
      ]
    },
    {
      "cell_type": "code",
      "execution_count": 74,
      "metadata": {
        "colab": {
          "base_uri": "https://localhost:8080/"
        },
        "id": "GQ8QilDThJnO",
        "outputId": "804f6a50-3c4c-4a7a-c1f1-d9d70996b4ea"
      },
      "outputs": [
        {
          "name": "stdout",
          "output_type": "stream",
          "text": [
            "Accuracy: 90%\n"
          ]
        }
      ],
      "source": [
        "# Calculate the Mean Absolute Error\n",
        "# Reshape Y_test and predictions to 2D before calculating MAE\n",
        "mae = mean_absolute_error(Y_test.reshape(-1, Y_test.shape[-1]), predictions.reshape(-1, predictions.shape[-1]))\n",
        "\n",
        "if mae < 0.1:\n",
        "    accuracy_estimate = 90  # High accuracy\n",
        "elif mae < 0.2:\n",
        "    accuracy_estimate = 80  # Medium-high accuracy\n",
        "elif mae < 0.3:\n",
        "    accuracy_estimate = 70  # Medium accuracy\n",
        "else:\n",
        "    accuracy_estimate = 60  # Low accuracy\n",
        "\n",
        "print(f\"Accuracy: {accuracy_estimate}%\")"
      ]
    },
    {
      "cell_type": "markdown",
      "metadata": {
        "id": "POcXApmS7-Aw"
      },
      "source": [
        "Save Model"
      ]
    },
    {
      "cell_type": "code",
      "execution_count": 53,
      "metadata": {
        "colab": {
          "base_uri": "https://localhost:8080/",
          "height": 238
        },
        "id": "cHjX-3c1YF3w",
        "outputId": "9125dd23-494e-4b07-cd57-c359c251cd3f"
      },
      "outputs": [
        {
          "data": {
            "text/html": [
              "\n",
              "<p style=\"margin:0px;\">🌲 Try <a href=\"https://ydf.readthedocs.io/en/latest/\" target=\"_blank\">YDF</a>, the successor of\n",
              "    <a href=\"https://www.tensorflow.org/decision_forests\" target=\"_blank\">TensorFlow\n",
              "        Decision Forests</a> using the same algorithms but with more features and faster\n",
              "    training!\n",
              "</p>\n",
              "<div style=\"display: flex; flex-wrap: wrap; margin:5px;max-width: 880px;\">\n",
              "    <div style=\"flex: 1; border-radius: 10px; background-color: F0F0F0; padding: 5px;\">\n",
              "        <p\n",
              "            style=\"font-weight: bold; margin:0px;text-align: center;border-bottom: 1px solid #C0C0C0;margin-bottom: 4px;\">\n",
              "            Old code</p>\n",
              "        <pre style=\"overflow-wrap: anywhere; overflow: auto; margin:0px;font-size: 9pt;\">\n",
              "import tensorflow_decision_forests as tfdf\n",
              "\n",
              "tf_ds = tfdf.keras.pd_dataframe_to_tf_dataset(ds, label=\"l\")\n",
              "model = tfdf.keras.RandomForestModel(label=\"l\")\n",
              "model.fit(tf_ds)\n",
              "</pre>\n",
              "    </div>\n",
              "    <div style=\"width: 5px;\"></div>\n",
              "    <div style=\"flex: 1; border-radius: 10px; background-color: F0F0F0; padding: 5px;\">\n",
              "        <p\n",
              "            style=\"font-weight: bold; margin:0px;text-align: center;border-bottom: 1px solid #C0C0C0;margin-bottom: 4px;\">\n",
              "            New code</p>\n",
              "        <pre style=\"overflow-wrap: anywhere; overflow: auto; margin:0px;font-size: 9pt;\">\n",
              "import ydf\n",
              "\n",
              "model = ydf.RandomForestLearner(label=\"l\").train(ds)\n",
              "</pre>\n",
              "    </div>\n",
              "</div>\n",
              "<p style=\"margin:0px;font-size: 9pt;\">(Learn more in the <a\n",
              "        href=\"https://ydf.readthedocs.io/en/latest/tutorial/migrating_to_ydf/\" target=\"_blank\">migration\n",
              "        guide</a>)</p>\n"
            ],
            "text/plain": [
              "<IPython.core.display.HTML object>"
            ]
          },
          "metadata": {},
          "output_type": "display_data"
        },
        {
          "name": "stderr",
          "output_type": "stream",
          "text": [
            "WARNING:absl:You are saving your model as an HDF5 file via `model.save()` or `keras.saving.save_model(model)`. This file format is considered legacy. We recommend using instead the native Keras format, e.g. `model.save('my_model.keras')` or `keras.saving.save_model(model, 'my_model.keras')`. \n"
          ]
        },
        {
          "name": "stdout",
          "output_type": "stream",
          "text": [
            "failed to lookup keras version from the file,\n",
            "    this is likely a weight only file\n"
          ]
        }
      ],
      "source": [
        "# prompt:  training model machine learning time series (lstm)\n",
        "\n",
        "import tensorflowjs as tfjs\n",
        "\n",
        "# Save the model in TensorFlow.js format\n",
        "tfjs.converters.save_keras_model(lstm_model, 'tfjs_model')"
      ]
    },
    {
      "cell_type": "code",
      "execution_count": 69,
      "metadata": {
        "colab": {
          "base_uri": "https://localhost:8080/"
        },
        "id": "nqlyYHpWgD3M",
        "outputId": "63690d7a-2240-4a0a-f9e8-91397d28c419"
      },
      "outputs": [
        {
          "name": "stdout",
          "output_type": "stream",
          "text": [
            "dict_keys(['format', 'generatedBy', 'convertedBy', 'modelTopology', 'weightsManifest'])\n"
          ]
        }
      ],
      "source": [
        "# prompt: membaca file tfjs_model file model.json\n",
        "\n",
        "import json\n",
        "\n",
        "def read_tfjs_model(model_json_path):\n",
        "  \"\"\"Reads a TensorFlow.js model from a JSON file.\n",
        "\n",
        "  Args:\n",
        "    model_json_path: The path to the model.json file.\n",
        "\n",
        "  Returns:\n",
        "    A dictionary representing the model architecture.\n",
        "  \"\"\"\n",
        "  try:\n",
        "    with open(model_json_path, 'r') as f:\n",
        "      model_json = json.load(f)\n",
        "    return model_json\n",
        "  except FileNotFoundError:\n",
        "    print(f\"Error: File not found at {model_json_path}\")\n",
        "    return None\n",
        "  except json.JSONDecodeError:\n",
        "    print(f\"Error: Invalid JSON format in {model_json_path}\")\n",
        "    return None\n",
        "\n",
        "# Example usage:\n",
        "model_json = read_tfjs_model('tfjs_model/model.json')\n",
        "\n",
        "if model_json:\n",
        "  # Now you can access the model architecture in the 'model_json' dictionary.\n",
        "  # For example:\n",
        "  print(model_json.keys()) # Print the keys of the JSON\n"
      ]
    }
  ],
  "metadata": {
    "accelerator": "GPU",
    "colab": {
      "gpuType": "T4",
      "provenance": []
    },
    "kernelspec": {
      "display_name": "Python 3",
      "name": "python3"
    },
    "language_info": {
      "name": "python"
    }
  },
  "nbformat": 4,
  "nbformat_minor": 0
}
